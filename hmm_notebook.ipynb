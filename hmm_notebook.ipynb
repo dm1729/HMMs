{
 "cells": [
  {
   "cell_type": "code",
   "execution_count": 63,
   "metadata": {
    "collapsed": true
   },
   "outputs": [],
   "source": [
    "import jax.numpy as jnp\n",
    "import jax.random as random\n",
    "import jax\n",
    "import numpy as np\n",
    "import jax.lax as lax"
   ]
  },
  {
   "cell_type": "code",
   "execution_count": 18,
   "outputs": [],
   "source": [
    "x = [jnp.exp(2)]"
   ],
   "metadata": {
    "collapsed": false
   }
  },
  {
   "cell_type": "code",
   "execution_count": 29,
   "outputs": [],
   "source": [
    "normal_pdf = jax.scipy.stats.norm.pdf"
   ],
   "metadata": {
    "collapsed": false
   }
  },
  {
   "cell_type": "code",
   "execution_count": 30,
   "outputs": [],
   "source": [
    "normal_pdf?"
   ],
   "metadata": {
    "collapsed": false
   }
  },
  {
   "cell_type": "code",
   "execution_count": 45,
   "outputs": [
    {
     "ename": "TypeError",
     "evalue": "norm.logpdf requires ndarray or scalar arguments, got <class 'tuple'> at position 1.",
     "output_type": "error",
     "traceback": [
      "\u001B[0;31m---------------------------------------------------------------------------\u001B[0m",
      "\u001B[0;31mTypeError\u001B[0m                                 Traceback (most recent call last)",
      "Input \u001B[0;32mIn [45]\u001B[0m, in \u001B[0;36m<cell line: 1>\u001B[0;34m()\u001B[0m\n\u001B[0;32m----> 1\u001B[0m \u001B[43mnormal_pdf\u001B[49m\u001B[43m(\u001B[49m\u001B[43mx\u001B[49m\u001B[38;5;241;43m=\u001B[39;49m\u001B[38;5;241;43m0\u001B[39;49m\u001B[43m,\u001B[49m\u001B[43m \u001B[49m\u001B[43mloc\u001B[49m\u001B[38;5;241;43m=\u001B[39;49m\u001B[43m(\u001B[49m\u001B[38;5;241;43m0\u001B[39;49m\u001B[43m,\u001B[49m\u001B[38;5;241;43m0\u001B[39;49m\u001B[43m)\u001B[49m\u001B[43m,\u001B[49m\u001B[43m \u001B[49m\u001B[43mscale\u001B[49m\u001B[38;5;241;43m=\u001B[39;49m\u001B[43m(\u001B[49m\u001B[38;5;241;43m8\u001B[39;49m\u001B[43m,\u001B[49m\u001B[38;5;241;43m8\u001B[39;49m\u001B[43m)\u001B[49m\u001B[43m)\u001B[49m\n",
      "File \u001B[0;32m~/anaconda3/envs/modelling_events/lib/python3.10/site-packages/jax/_src/scipy/stats/norm.py:39\u001B[0m, in \u001B[0;36mpdf\u001B[0;34m(x, loc, scale)\u001B[0m\n\u001B[1;32m     37\u001B[0m \u001B[38;5;129m@_wraps\u001B[39m(osp_stats\u001B[38;5;241m.\u001B[39mnorm\u001B[38;5;241m.\u001B[39mpdf, update_doc\u001B[38;5;241m=\u001B[39m\u001B[38;5;28;01mFalse\u001B[39;00m)\n\u001B[1;32m     38\u001B[0m \u001B[38;5;28;01mdef\u001B[39;00m \u001B[38;5;21mpdf\u001B[39m(x: ArrayLike, loc: ArrayLike \u001B[38;5;241m=\u001B[39m \u001B[38;5;241m0\u001B[39m, scale: ArrayLike \u001B[38;5;241m=\u001B[39m \u001B[38;5;241m1\u001B[39m) \u001B[38;5;241m-\u001B[39m\u001B[38;5;241m>\u001B[39m Array:\n\u001B[0;32m---> 39\u001B[0m   \u001B[38;5;28;01mreturn\u001B[39;00m lax\u001B[38;5;241m.\u001B[39mexp(\u001B[43mlogpdf\u001B[49m\u001B[43m(\u001B[49m\u001B[43mx\u001B[49m\u001B[43m,\u001B[49m\u001B[43m \u001B[49m\u001B[43mloc\u001B[49m\u001B[43m,\u001B[49m\u001B[43m \u001B[49m\u001B[43mscale\u001B[49m\u001B[43m)\u001B[49m)\n",
      "File \u001B[0;32m~/anaconda3/envs/modelling_events/lib/python3.10/site-packages/jax/_src/scipy/stats/norm.py:30\u001B[0m, in \u001B[0;36mlogpdf\u001B[0;34m(x, loc, scale)\u001B[0m\n\u001B[1;32m     28\u001B[0m \u001B[38;5;129m@_wraps\u001B[39m(osp_stats\u001B[38;5;241m.\u001B[39mnorm\u001B[38;5;241m.\u001B[39mlogpdf, update_doc\u001B[38;5;241m=\u001B[39m\u001B[38;5;28;01mFalse\u001B[39;00m)\n\u001B[1;32m     29\u001B[0m \u001B[38;5;28;01mdef\u001B[39;00m \u001B[38;5;21mlogpdf\u001B[39m(x: ArrayLike, loc: ArrayLike \u001B[38;5;241m=\u001B[39m \u001B[38;5;241m0\u001B[39m, scale: ArrayLike \u001B[38;5;241m=\u001B[39m \u001B[38;5;241m1\u001B[39m) \u001B[38;5;241m-\u001B[39m\u001B[38;5;241m>\u001B[39m Array:\n\u001B[0;32m---> 30\u001B[0m   x, loc, scale \u001B[38;5;241m=\u001B[39m \u001B[43m_promote_args_inexact\u001B[49m\u001B[43m(\u001B[49m\u001B[38;5;124;43m\"\u001B[39;49m\u001B[38;5;124;43mnorm.logpdf\u001B[39;49m\u001B[38;5;124;43m\"\u001B[39;49m\u001B[43m,\u001B[49m\u001B[43m \u001B[49m\u001B[43mx\u001B[49m\u001B[43m,\u001B[49m\u001B[43m \u001B[49m\u001B[43mloc\u001B[49m\u001B[43m,\u001B[49m\u001B[43m \u001B[49m\u001B[43mscale\u001B[49m\u001B[43m)\u001B[49m\n\u001B[1;32m     31\u001B[0m   scale_sqrd \u001B[38;5;241m=\u001B[39m lax\u001B[38;5;241m.\u001B[39msquare(scale)\n\u001B[1;32m     32\u001B[0m   log_normalizer \u001B[38;5;241m=\u001B[39m lax\u001B[38;5;241m.\u001B[39mlog(lax\u001B[38;5;241m.\u001B[39mmul(_lax_const(x, \u001B[38;5;241m2\u001B[39m \u001B[38;5;241m*\u001B[39m np\u001B[38;5;241m.\u001B[39mpi), scale_sqrd))\n",
      "File \u001B[0;32m~/anaconda3/envs/modelling_events/lib/python3.10/site-packages/jax/_src/numpy/util.py:378\u001B[0m, in \u001B[0;36m_promote_args_inexact\u001B[0;34m(fun_name, *args)\u001B[0m\n\u001B[1;32m    374\u001B[0m \u001B[38;5;28;01mdef\u001B[39;00m \u001B[38;5;21m_promote_args_inexact\u001B[39m(fun_name: \u001B[38;5;28mstr\u001B[39m, \u001B[38;5;241m*\u001B[39margs: ArrayLike) \u001B[38;5;241m-\u001B[39m\u001B[38;5;241m>\u001B[39m List[Array]:\n\u001B[1;32m    375\u001B[0m   \u001B[38;5;124;03m\"\"\"Convenience function to apply Numpy argument shape and dtype promotion.\u001B[39;00m\n\u001B[1;32m    376\u001B[0m \n\u001B[1;32m    377\u001B[0m \u001B[38;5;124;03m  Promotes non-inexact types to an inexact type.\"\"\"\u001B[39;00m\n\u001B[0;32m--> 378\u001B[0m   \u001B[43m_check_arraylike\u001B[49m\u001B[43m(\u001B[49m\u001B[43mfun_name\u001B[49m\u001B[43m,\u001B[49m\u001B[43m \u001B[49m\u001B[38;5;241;43m*\u001B[39;49m\u001B[43margs\u001B[49m\u001B[43m)\u001B[49m\n\u001B[1;32m    379\u001B[0m   _check_no_float0s(fun_name, \u001B[38;5;241m*\u001B[39margs)\n\u001B[1;32m    380\u001B[0m   \u001B[38;5;28;01mreturn\u001B[39;00m _promote_shapes(fun_name, \u001B[38;5;241m*\u001B[39m_promote_dtypes_inexact(\u001B[38;5;241m*\u001B[39margs))\n",
      "File \u001B[0;32m~/anaconda3/envs/modelling_events/lib/python3.10/site-packages/jax/_src/numpy/util.py:345\u001B[0m, in \u001B[0;36m_check_arraylike\u001B[0;34m(fun_name, *args)\u001B[0m\n\u001B[1;32m    342\u001B[0m pos, arg \u001B[38;5;241m=\u001B[39m \u001B[38;5;28mnext\u001B[39m((i, arg) \u001B[38;5;28;01mfor\u001B[39;00m i, arg \u001B[38;5;129;01min\u001B[39;00m \u001B[38;5;28menumerate\u001B[39m(args)\n\u001B[1;32m    343\u001B[0m                 \u001B[38;5;28;01mif\u001B[39;00m \u001B[38;5;129;01mnot\u001B[39;00m _arraylike(arg))\n\u001B[1;32m    344\u001B[0m msg \u001B[38;5;241m=\u001B[39m \u001B[38;5;124m\"\u001B[39m\u001B[38;5;132;01m{}\u001B[39;00m\u001B[38;5;124m requires ndarray or scalar arguments, got \u001B[39m\u001B[38;5;132;01m{}\u001B[39;00m\u001B[38;5;124m at position \u001B[39m\u001B[38;5;132;01m{}\u001B[39;00m\u001B[38;5;124m.\u001B[39m\u001B[38;5;124m\"\u001B[39m\n\u001B[0;32m--> 345\u001B[0m \u001B[38;5;28;01mraise\u001B[39;00m \u001B[38;5;167;01mTypeError\u001B[39;00m(msg\u001B[38;5;241m.\u001B[39mformat(fun_name, \u001B[38;5;28mtype\u001B[39m(arg), pos))\n",
      "\u001B[0;31mTypeError\u001B[0m: norm.logpdf requires ndarray or scalar arguments, got <class 'tuple'> at position 1."
     ]
    }
   ],
   "source": [
    "normal_pdf(x=0, loc=(0,0), scale=(8,8))"
   ],
   "metadata": {
    "collapsed": false
   }
  },
  {
   "cell_type": "code",
   "execution_count": 69,
   "outputs": [],
   "source": [
    "trans_mat = jnp.array( [[0.7,0.3],[0.2,0.8]])"
   ],
   "metadata": {
    "collapsed": false
   }
  },
  {
   "cell_type": "code",
   "execution_count": 52,
   "outputs": [
    {
     "data": {
      "text/plain": "DeviceArray(0.3, dtype=float32)"
     },
     "execution_count": 52,
     "metadata": {},
     "output_type": "execute_result"
    }
   ],
   "source": [
    "trans_mat[0,1]"
   ],
   "metadata": {
    "collapsed": false
   }
  },
  {
   "cell_type": "code",
   "execution_count": 59,
   "outputs": [
    {
     "data": {
      "text/plain": "DeviceArray([1., 1.], dtype=float32)"
     },
     "execution_count": 59,
     "metadata": {},
     "output_type": "execute_result"
    }
   ],
   "source": [
    "jnp.dot( trans_mat, np.array([1,1]) )"
   ],
   "metadata": {
    "collapsed": false
   }
  },
  {
   "cell_type": "code",
   "execution_count": 120,
   "outputs": [],
   "source": [
    "def forward_backward_gaussian(trans_mat, means, standard_devs, init_probs, obs_data):\n",
    "    def normal_pdf_vec(obs,means,standard_devs):\n",
    "        return jnp.array([jax.scipy.stats.norm.pdf(obs, means[i], standard_devs[i]) for i in range(len(means))])\n",
    "\n",
    "    # Compute forward probabilities using scan\n",
    "    def forward_scan_fun(carry, obs_t):\n",
    "        alpha_t = jnp.dot(carry, trans_mat) * normal_pdf_vec(obs_t, means, standard_devs)\n",
    "        # alpha_t /= jnp.sum(alpha_t)\n",
    "        return alpha_t, alpha_t  # so carry is alpha_t, and the y (stored output) is alpha_t\n",
    "\n",
    "    forward_init = init_probs*normal_pdf_vec(obs_data[0],means,standard_devs)\n",
    "    _, forward_after_init = lax.scan(f=forward_scan_fun, init=forward_init, xs=obs_data[1:])\n",
    "        # outputs stack of y\n",
    "    forward = jnp.append( jnp.array([forward_init]), forward_after_init, axis=0 )\n",
    "\n",
    "    # Compute backward probabilities using scan\n",
    "    def backward_scan_fun(carry, obs_t):\n",
    "        beta_t = jnp.dot(trans_mat, carry * normal_pdf_vec(obs_t, means, standard_devs))\n",
    "        # beta_t /= jnp.sum(beta_t)\n",
    "        return beta_t, beta_t\n",
    "\n",
    "    backward_init = jnp.array([ float(1) for _ in range(trans_mat.shape[0])])\n",
    "    _, backward_after_init = lax.scan(f=backward_scan_fun, init= backward_init, xs=obs_data[1:], reverse=True)\n",
    "    backward = jnp.append( backward_after_init, jnp.array([backward_init]), axis=0 )\n",
    "\n",
    "    return forward, backward"
   ],
   "metadata": {
    "collapsed": false
   }
  },
  {
   "cell_type": "code",
   "execution_count": 121,
   "outputs": [],
   "source": [
    "out = forward_backward_gaussian(trans_mat, means=[-100,100], standard_devs=[1,1], init_probs=jnp.array([0.5,0.5]), obs_data=jnp.array([100,100,100,100,100]))"
   ],
   "metadata": {
    "collapsed": false
   }
  },
  {
   "cell_type": "code",
   "execution_count": 122,
   "outputs": [
    {
     "data": {
      "text/plain": "(DeviceArray([[0.        , 0.19947115],\n              [0.        , 0.06366199],\n              [0.        , 0.02031797],\n              [0.        , 0.00648456],\n              [0.        , 0.00206957]], dtype=float32),\n DeviceArray([[0.00389073, 0.01037529],\n              [0.01219078, 0.03250875],\n              [0.03819719, 0.10185917],\n              [0.11968269, 0.31915385],\n              [1.        , 1.        ]], dtype=float32))"
     },
     "execution_count": 122,
     "metadata": {},
     "output_type": "execute_result"
    }
   ],
   "source": [
    "out"
   ],
   "metadata": {
    "collapsed": false
   }
  },
  {
   "cell_type": "code",
   "execution_count": 83,
   "outputs": [],
   "source": [
    "obs_data = jnp.array([1,2,3,4,5])"
   ],
   "metadata": {
    "collapsed": false
   }
  },
  {
   "cell_type": "code",
   "execution_count": 86,
   "outputs": [
    {
     "data": {
      "text/plain": "DeviceArray([2, 3, 4, 5], dtype=int32)"
     },
     "execution_count": 86,
     "metadata": {},
     "output_type": "execute_result"
    }
   ],
   "source": [
    "obs_data[1:]"
   ],
   "metadata": {
    "collapsed": false
   }
  },
  {
   "cell_type": "code",
   "execution_count": 93,
   "outputs": [
    {
     "data": {
      "text/plain": "DeviceArray([1.0000000e+00, 1.0000000e+00, 5.5704232e-02, 0.0000000e+00,\n             0.0000000e+00, 6.6668326e-03, 0.0000000e+00, 2.1277452e-03,\n             0.0000000e+00, 6.7907805e-04, 0.0000000e+00, 2.1673038e-04],            dtype=float32)"
     },
     "execution_count": 93,
     "metadata": {},
     "output_type": "execute_result"
    }
   ],
   "source": [
    "jnp.append( jnp.array([1,1]), out[0] )"
   ],
   "metadata": {
    "collapsed": false
   }
  },
  {
   "cell_type": "code",
   "execution_count": 94,
   "outputs": [],
   "source": [
    "jnp.append?"
   ],
   "metadata": {
    "collapsed": false
   }
  },
  {
   "cell_type": "code",
   "execution_count": 108,
   "outputs": [
    {
     "data": {
      "text/plain": "DeviceArray([[0.        , 0.06366199],\n             [0.        , 0.02031797],\n             [0.        , 0.00648456],\n             [0.        , 0.00206957]], dtype=float32)"
     },
     "execution_count": 108,
     "metadata": {},
     "output_type": "execute_result"
    }
   ],
   "source": [
    "out[0]"
   ],
   "metadata": {
    "collapsed": false
   }
  },
  {
   "cell_type": "code",
   "execution_count": 112,
   "outputs": [],
   "source": [
    "alpha_arr = jnp.append( jnp.array([[1,1]]) , out[0], axis = 0 )"
   ],
   "metadata": {
    "collapsed": false
   }
  },
  {
   "cell_type": "code",
   "execution_count": 113,
   "outputs": [
    {
     "data": {
      "text/plain": "DeviceArray([[1.        , 1.        ],\n             [0.        , 0.06366199],\n             [0.        , 0.02031797],\n             [0.        , 0.00648456],\n             [0.        , 0.00206957]], dtype=float32)"
     },
     "execution_count": 113,
     "metadata": {},
     "output_type": "execute_result"
    }
   ],
   "source": [
    "alpha_arr"
   ],
   "metadata": {
    "collapsed": false
   }
  },
  {
   "cell_type": "code",
   "execution_count": 123,
   "outputs": [
    {
     "data": {
      "text/plain": "(DeviceArray([[0.        , 0.19947115],\n              [0.        , 0.06366199],\n              [0.        , 0.02031797],\n              [0.        , 0.00648456],\n              [0.        , 0.00206957]], dtype=float32),\n DeviceArray([[0.00389073, 0.01037529],\n              [0.01219078, 0.03250875],\n              [0.03819719, 0.10185917],\n              [0.11968269, 0.31915385],\n              [1.        , 1.        ]], dtype=float32))"
     },
     "execution_count": 123,
     "metadata": {},
     "output_type": "execute_result"
    }
   ],
   "source": [
    "out"
   ],
   "metadata": {
    "collapsed": false
   }
  },
  {
   "cell_type": "code",
   "execution_count": 132,
   "outputs": [
    {
     "data": {
      "text/plain": "DeviceArray([0.        , 0.19947115], dtype=float32)"
     },
     "execution_count": 132,
     "metadata": {},
     "output_type": "execute_result"
    }
   ],
   "source": [
    "out[0][0]"
   ],
   "metadata": {
    "collapsed": false
   }
  },
  {
   "cell_type": "code",
   "execution_count": 133,
   "outputs": [],
   "source": [
    "jnp.bincount?"
   ],
   "metadata": {
    "collapsed": false
   }
  },
  {
   "cell_type": "code",
   "execution_count": 134,
   "outputs": [],
   "source": [
    "import numpy as np"
   ],
   "metadata": {
    "collapsed": false
   }
  },
  {
   "cell_type": "code",
   "execution_count": 135,
   "outputs": [
    {
     "data": {
      "text/plain": "matrix([[1, 1, 1]])"
     },
     "execution_count": 135,
     "metadata": {},
     "output_type": "execute_result"
    }
   ],
   "source": [
    "np.asmatrix([1,1,1\n",
    "             ])"
   ],
   "metadata": {
    "collapsed": false
   }
  },
  {
   "cell_type": "code",
   "execution_count": 136,
   "outputs": [
    {
     "data": {
      "text/plain": "DeviceArray([1, 1, 1], dtype=int32)"
     },
     "execution_count": 136,
     "metadata": {},
     "output_type": "execute_result"
    }
   ],
   "source": [
    "jnp.asarray([1,1,1])"
   ],
   "metadata": {
    "collapsed": false
   }
  },
  {
   "cell_type": "code",
   "execution_count": null,
   "outputs": [],
   "source": [],
   "metadata": {
    "collapsed": false
   }
  }
 ],
 "metadata": {
  "kernelspec": {
   "display_name": "Python 3",
   "language": "python",
   "name": "python3"
  },
  "language_info": {
   "codemirror_mode": {
    "name": "ipython",
    "version": 2
   },
   "file_extension": ".py",
   "mimetype": "text/x-python",
   "name": "python",
   "nbconvert_exporter": "python",
   "pygments_lexer": "ipython2",
   "version": "2.7.6"
  }
 },
 "nbformat": 4,
 "nbformat_minor": 0
}
