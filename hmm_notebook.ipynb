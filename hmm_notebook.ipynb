{
 "cells": [
  {
   "cell_type": "code",
   "execution_count": 2,
   "metadata": {
    "collapsed": true,
    "pycharm": {
     "name": "#%%\n"
    }
   },
   "outputs": [
    {
     "name": "stderr",
     "output_type": "stream",
     "text": [
      "C:\\Users\\danmo\\anaconda3\\envs\\HMM\\lib\\site-packages\\numpy\\_distributor_init.py:30: UserWarning: loaded more than 1 DLL from .libs:\n",
      "C:\\Users\\danmo\\anaconda3\\envs\\HMM\\lib\\site-packages\\numpy\\.libs\\libopenblas.EL2C6PLE4ZYW3ECEVIV3OXXGRN2NRFM2.gfortran-win_amd64.dll\n",
      "C:\\Users\\danmo\\anaconda3\\envs\\HMM\\lib\\site-packages\\numpy\\.libs\\libopenblas64__v0.3.21-gcc_10_3_0.dll\n",
      "  warnings.warn(\"loaded more than 1 DLL from .libs:\"\n"
     ]
    }
   ],
   "source": [
    "import numpy as np\n",
    "import numpy.random as random\n",
    "# import jax.random as random\n",
    "import jax\n",
    "import jax.lax as lax\n",
    "from scipy.stats import rv_discrete"
   ]
  },
  {
   "cell_type": "code",
   "execution_count": 21,
   "outputs": [],
   "source": [
    "import numpy as np"
   ],
   "metadata": {
    "collapsed": false,
    "pycharm": {
     "name": "#%%\n"
    }
   }
  },
  {
   "cell_type": "code",
   "execution_count": 67,
   "outputs": [],
   "source": [
    "gamma = np.matrix([[1,1,1,1,1],[1,1,1,1,1]])\n",
    "a = np.matrix([[0.8,0.2],[0.3,0.7]])\n",
    "b = np.matrix([[0.6,0.2,0.2],[0.3,0.3,0.4]])\n",
    "beta = np.matrix([[1,2,3,4,5],[1,2,3,4,5]])\n",
    "o = np.array([0,2,2,1,0])"
   ],
   "metadata": {
    "collapsed": false,
    "pycharm": {
     "name": "#%%\n"
    }
   }
  },
  {
   "cell_type": "code",
   "execution_count": 37,
   "outputs": [
    {
     "data": {
      "text/plain": "0.4"
     },
     "execution_count": 37,
     "metadata": {},
     "output_type": "execute_result"
    }
   ],
   "source": [
    "b[1,2]"
   ],
   "metadata": {
    "collapsed": false,
    "pycharm": {
     "name": "#%%\n"
    }
   }
  },
  {
   "cell_type": "code",
   "execution_count": 26,
   "outputs": [
    {
     "ename": "ValueError",
     "evalue": "could not broadcast input array from shape (2,4,1) into shape (2,4)",
     "output_type": "error",
     "traceback": [
      "\u001B[1;31m---------------------------------------------------------------------------\u001B[0m",
      "\u001B[1;31mValueError\u001B[0m                                Traceback (most recent call last)",
      "Input \u001B[1;32mIn [26]\u001B[0m, in \u001B[0;36m<cell line: 1>\u001B[1;34m()\u001B[0m\n\u001B[1;32m----> 1\u001B[0m \u001B[43mgamma\u001B[49m\u001B[43m[\u001B[49m\u001B[43m:\u001B[49m\u001B[43m,\u001B[49m\u001B[43m \u001B[49m\u001B[43m:\u001B[49m\u001B[38;5;241;43m-\u001B[39;49m\u001B[38;5;241;43m1\u001B[39;49m\u001B[43m,\u001B[49m\u001B[43m \u001B[49m\u001B[43mnp\u001B[49m\u001B[38;5;241;43m.\u001B[39;49m\u001B[43mnewaxis\u001B[49m\u001B[43m]\u001B[49m\u001B[43m \u001B[49m\u001B[38;5;241;43m*\u001B[39;49m\u001B[43m \u001B[49m\u001B[43ma\u001B[49m\n",
      "File \u001B[1;32m~\\anaconda3\\envs\\HMM\\lib\\site-packages\\numpy\\matrixlib\\defmatrix.py:218\u001B[0m, in \u001B[0;36mmatrix.__mul__\u001B[1;34m(self, other)\u001B[0m\n\u001B[0;32m    215\u001B[0m \u001B[38;5;28;01mdef\u001B[39;00m \u001B[38;5;21m__mul__\u001B[39m(\u001B[38;5;28mself\u001B[39m, other):\n\u001B[0;32m    216\u001B[0m     \u001B[38;5;28;01mif\u001B[39;00m \u001B[38;5;28misinstance\u001B[39m(other, (N\u001B[38;5;241m.\u001B[39mndarray, \u001B[38;5;28mlist\u001B[39m, \u001B[38;5;28mtuple\u001B[39m)) :\n\u001B[0;32m    217\u001B[0m         \u001B[38;5;66;03m# This promotes 1-D vectors to row vectors\u001B[39;00m\n\u001B[1;32m--> 218\u001B[0m         \u001B[38;5;28;01mreturn\u001B[39;00m \u001B[43mN\u001B[49m\u001B[38;5;241;43m.\u001B[39;49m\u001B[43mdot\u001B[49m\u001B[43m(\u001B[49m\u001B[38;5;28;43mself\u001B[39;49m\u001B[43m,\u001B[49m\u001B[43m \u001B[49m\u001B[43masmatrix\u001B[49m\u001B[43m(\u001B[49m\u001B[43mother\u001B[49m\u001B[43m)\u001B[49m\u001B[43m)\u001B[49m\n\u001B[0;32m    219\u001B[0m     \u001B[38;5;28;01mif\u001B[39;00m isscalar(other) \u001B[38;5;129;01mor\u001B[39;00m \u001B[38;5;129;01mnot\u001B[39;00m \u001B[38;5;28mhasattr\u001B[39m(other, \u001B[38;5;124m'\u001B[39m\u001B[38;5;124m__rmul__\u001B[39m\u001B[38;5;124m'\u001B[39m) :\n\u001B[0;32m    220\u001B[0m         \u001B[38;5;28;01mreturn\u001B[39;00m N\u001B[38;5;241m.\u001B[39mdot(\u001B[38;5;28mself\u001B[39m, other)\n",
      "File \u001B[1;32m<__array_function__ internals>:200\u001B[0m, in \u001B[0;36mdot\u001B[1;34m(*args, **kwargs)\u001B[0m\n",
      "\u001B[1;31mValueError\u001B[0m: could not broadcast input array from shape (2,4,1) into shape (2,4)"
     ]
    }
   ],
   "source": [
    "gamma[:, :-1, np.newaxis] * a"
   ],
   "metadata": {
    "collapsed": false,
    "pycharm": {
     "name": "#%%\n"
    }
   }
  },
  {
   "cell_type": "code",
   "execution_count": 30,
   "outputs": [
    {
     "data": {
      "text/plain": "(2, 5)"
     },
     "execution_count": 30,
     "metadata": {},
     "output_type": "execute_result"
    }
   ],
   "source": [
    "gamma.shape"
   ],
   "metadata": {
    "collapsed": false,
    "pycharm": {
     "name": "#%%\n"
    }
   }
  },
  {
   "cell_type": "code",
   "execution_count": 29,
   "outputs": [
    {
     "data": {
      "text/plain": "(2, 1, 5)"
     },
     "execution_count": 29,
     "metadata": {},
     "output_type": "execute_result"
    }
   ],
   "source": [
    "gamma[:,np.newaxis,:].shape"
   ],
   "metadata": {
    "collapsed": false,
    "pycharm": {
     "name": "#%%\n"
    }
   }
  },
  {
   "cell_type": "code",
   "execution_count": 33,
   "outputs": [
    {
     "data": {
      "text/plain": "matrix([[0.4, 0.4, 0.4]])"
     },
     "execution_count": 33,
     "metadata": {},
     "output_type": "execute_result"
    }
   ],
   "source": [
    "b[1,[2,2,2]]"
   ],
   "metadata": {
    "collapsed": false,
    "pycharm": {
     "name": "#%%\n"
    }
   }
  },
  {
   "cell_type": "code",
   "execution_count": 47,
   "outputs": [
    {
     "data": {
      "text/plain": "matrix([[0, 2, 2, 1, 0]])"
     },
     "execution_count": 47,
     "metadata": {},
     "output_type": "execute_result"
    }
   ],
   "source": [
    "np.reshape(o,o.shape[1])"
   ],
   "metadata": {
    "collapsed": false,
    "pycharm": {
     "name": "#%%\n"
    }
   }
  },
  {
   "cell_type": "code",
   "execution_count": 42,
   "outputs": [
    {
     "data": {
      "text/plain": "matrix([], shape=(2, 0, 5), dtype=float64)"
     },
     "execution_count": 42,
     "metadata": {},
     "output_type": "execute_result"
    }
   ],
   "source": [
    "b[:, o[1:]]"
   ],
   "metadata": {
    "collapsed": false,
    "pycharm": {
     "name": "#%%\n"
    }
   }
  },
  {
   "cell_type": "code",
   "execution_count": 40,
   "outputs": [
    {
     "data": {
      "text/plain": "matrix([], shape=(1, 2, 0, 5), dtype=float64)"
     },
     "execution_count": 40,
     "metadata": {},
     "output_type": "execute_result"
    }
   ],
   "source": [
    "b[np.newaxis, :, o[1:]]"
   ],
   "metadata": {
    "collapsed": false,
    "pycharm": {
     "name": "#%%\n"
    }
   }
  },
  {
   "cell_type": "code",
   "execution_count": 49,
   "outputs": [
    {
     "data": {
      "text/plain": "array([0, 2, 2, 1, 0])"
     },
     "execution_count": 49,
     "metadata": {},
     "output_type": "execute_result"
    }
   ],
   "source": [
    "o"
   ],
   "metadata": {
    "collapsed": false,
    "pycharm": {
     "name": "#%%\n"
    }
   }
  },
  {
   "cell_type": "code",
   "execution_count": 53,
   "outputs": [
    {
     "data": {
      "text/plain": "(2, 2, 1)"
     },
     "execution_count": 53,
     "metadata": {},
     "output_type": "execute_result"
    }
   ],
   "source": [
    "a[:,:,np.newaxis].shape"
   ],
   "metadata": {
    "collapsed": false,
    "pycharm": {
     "name": "#%%\n"
    }
   }
  },
  {
   "cell_type": "code",
   "execution_count": 54,
   "outputs": [
    {
     "data": {
      "text/plain": "(2, 1, 4)"
     },
     "execution_count": 54,
     "metadata": {},
     "output_type": "execute_result"
    }
   ],
   "source": [
    "gamma[:, np.newaxis, :-1].shape"
   ],
   "metadata": {
    "collapsed": false,
    "pycharm": {
     "name": "#%%\n"
    }
   }
  },
  {
   "cell_type": "code",
   "execution_count": 62,
   "outputs": [
    {
     "data": {
      "text/plain": "(1, 2, 2)"
     },
     "execution_count": 62,
     "metadata": {},
     "output_type": "execute_result"
    }
   ],
   "source": [
    "a[np.newaxis].shape"
   ],
   "metadata": {
    "collapsed": false,
    "pycharm": {
     "name": "#%%\n"
    }
   }
  },
  {
   "cell_type": "code",
   "execution_count": 63,
   "outputs": [],
   "source": [
    "np.tensordot?"
   ],
   "metadata": {
    "collapsed": false,
    "pycharm": {
     "name": "#%%\n"
    }
   }
  },
  {
   "cell_type": "code",
   "execution_count": 64,
   "outputs": [
    {
     "ename": "ValueError",
     "evalue": "could not broadcast input array from shape (2,4,1) into shape (2,4)",
     "output_type": "error",
     "traceback": [
      "\u001B[1;31m---------------------------------------------------------------------------\u001B[0m",
      "\u001B[1;31mValueError\u001B[0m                                Traceback (most recent call last)",
      "Input \u001B[1;32mIn [64]\u001B[0m, in \u001B[0;36m<cell line: 1>\u001B[1;34m()\u001B[0m\n\u001B[1;32m----> 1\u001B[0m xsi \u001B[38;5;241m=\u001B[39m (\u001B[43mgamma\u001B[49m\u001B[43m[\u001B[49m\u001B[43m:\u001B[49m\u001B[43m,\u001B[49m\u001B[43m \u001B[49m\u001B[43m:\u001B[49m\u001B[38;5;241;43m-\u001B[39;49m\u001B[38;5;241;43m1\u001B[39;49m\u001B[43m,\u001B[49m\u001B[43m \u001B[49m\u001B[43mnp\u001B[49m\u001B[38;5;241;43m.\u001B[39;49m\u001B[43mnewaxis\u001B[49m\u001B[43m]\u001B[49m\u001B[43m \u001B[49m\u001B[38;5;241;43m*\u001B[39;49m\u001B[43m \u001B[49m\u001B[43ma\u001B[49m \u001B[38;5;241m*\u001B[39m b[:, o[\u001B[38;5;241m1\u001B[39m:]]\u001B[38;5;241m.\u001B[39mT[np\u001B[38;5;241m.\u001B[39mnewaxis, :, :] \u001B[38;5;241m*\u001B[39m beta[:, \u001B[38;5;241m1\u001B[39m:][:, np\u001B[38;5;241m.\u001B[39mnewaxis, :]) \u001B[38;5;241m/\u001B[39m beta[:, :\u001B[38;5;241m-\u001B[39m\u001B[38;5;241m1\u001B[39m][:, np\u001B[38;5;241m.\u001B[39mnewaxis, :]\n",
      "File \u001B[1;32m~\\anaconda3\\envs\\HMM\\lib\\site-packages\\numpy\\matrixlib\\defmatrix.py:218\u001B[0m, in \u001B[0;36mmatrix.__mul__\u001B[1;34m(self, other)\u001B[0m\n\u001B[0;32m    215\u001B[0m \u001B[38;5;28;01mdef\u001B[39;00m \u001B[38;5;21m__mul__\u001B[39m(\u001B[38;5;28mself\u001B[39m, other):\n\u001B[0;32m    216\u001B[0m     \u001B[38;5;28;01mif\u001B[39;00m \u001B[38;5;28misinstance\u001B[39m(other, (N\u001B[38;5;241m.\u001B[39mndarray, \u001B[38;5;28mlist\u001B[39m, \u001B[38;5;28mtuple\u001B[39m)) :\n\u001B[0;32m    217\u001B[0m         \u001B[38;5;66;03m# This promotes 1-D vectors to row vectors\u001B[39;00m\n\u001B[1;32m--> 218\u001B[0m         \u001B[38;5;28;01mreturn\u001B[39;00m \u001B[43mN\u001B[49m\u001B[38;5;241;43m.\u001B[39;49m\u001B[43mdot\u001B[49m\u001B[43m(\u001B[49m\u001B[38;5;28;43mself\u001B[39;49m\u001B[43m,\u001B[49m\u001B[43m \u001B[49m\u001B[43masmatrix\u001B[49m\u001B[43m(\u001B[49m\u001B[43mother\u001B[49m\u001B[43m)\u001B[49m\u001B[43m)\u001B[49m\n\u001B[0;32m    219\u001B[0m     \u001B[38;5;28;01mif\u001B[39;00m isscalar(other) \u001B[38;5;129;01mor\u001B[39;00m \u001B[38;5;129;01mnot\u001B[39;00m \u001B[38;5;28mhasattr\u001B[39m(other, \u001B[38;5;124m'\u001B[39m\u001B[38;5;124m__rmul__\u001B[39m\u001B[38;5;124m'\u001B[39m) :\n\u001B[0;32m    220\u001B[0m         \u001B[38;5;28;01mreturn\u001B[39;00m N\u001B[38;5;241m.\u001B[39mdot(\u001B[38;5;28mself\u001B[39m, other)\n",
      "File \u001B[1;32m<__array_function__ internals>:200\u001B[0m, in \u001B[0;36mdot\u001B[1;34m(*args, **kwargs)\u001B[0m\n",
      "\u001B[1;31mValueError\u001B[0m: could not broadcast input array from shape (2,4,1) into shape (2,4)"
     ]
    }
   ],
   "source": [
    "xsi = (gamma[:, :-1, np.newaxis] * a * b[:, o[1:]].T[np.newaxis, :, :] * beta[:, 1:][:, np.newaxis, :]) / beta[:, :-1][:, np.newaxis, :]"
   ],
   "metadata": {
    "collapsed": false,
    "pycharm": {
     "name": "#%%\n"
    }
   }
  },
  {
   "cell_type": "code",
   "execution_count": 68,
   "outputs": [
    {
     "ename": "ValueError",
     "evalue": "shape too large to be a matrix.",
     "output_type": "error",
     "traceback": [
      "\u001B[1;31m---------------------------------------------------------------------------\u001B[0m",
      "\u001B[1;31mValueError\u001B[0m                                Traceback (most recent call last)",
      "Input \u001B[1;32mIn [68]\u001B[0m, in \u001B[0;36m<cell line: 1>\u001B[1;34m()\u001B[0m\n\u001B[1;32m----> 1\u001B[0m a_new \u001B[38;5;241m=\u001B[39m \u001B[43mnp\u001B[49m\u001B[38;5;241;43m.\u001B[39;49m\u001B[43mrepeat\u001B[49m\u001B[43m(\u001B[49m\u001B[43ma\u001B[49m\u001B[43m[\u001B[49m\u001B[43m:\u001B[49m\u001B[43m,\u001B[49m\u001B[43m:\u001B[49m\u001B[43m,\u001B[49m\u001B[43m \u001B[49m\u001B[43mnp\u001B[49m\u001B[38;5;241;43m.\u001B[39;49m\u001B[43mnewaxis\u001B[49m\u001B[43m]\u001B[49m\u001B[43m,\u001B[49m\u001B[43m \u001B[49m\u001B[43mbeta\u001B[49m\u001B[38;5;241;43m.\u001B[39;49m\u001B[43mshape\u001B[49m\u001B[43m[\u001B[49m\u001B[38;5;241;43m1\u001B[39;49m\u001B[43m]\u001B[49m\u001B[38;5;241;43m-\u001B[39;49m\u001B[38;5;241;43m1\u001B[39;49m\u001B[43m,\u001B[49m\u001B[43m \u001B[49m\u001B[43maxis\u001B[49m\u001B[38;5;241;43m=\u001B[39;49m\u001B[38;5;241;43m2\u001B[39;49m\u001B[43m)\u001B[49m\n\u001B[0;32m      2\u001B[0m gamma_new \u001B[38;5;241m=\u001B[39m np\u001B[38;5;241m.\u001B[39mrepeat(gamma[:,:, np\u001B[38;5;241m.\u001B[39mnewaxis], beta\u001B[38;5;241m.\u001B[39mshape[\u001B[38;5;241m1\u001B[39m]\u001B[38;5;241m-\u001B[39m\u001B[38;5;241m1\u001B[39m, axis\u001B[38;5;241m=\u001B[39m\u001B[38;5;241m2\u001B[39m)\n",
      "File \u001B[1;32m<__array_function__ internals>:200\u001B[0m, in \u001B[0;36mrepeat\u001B[1;34m(*args, **kwargs)\u001B[0m\n",
      "File \u001B[1;32m~\\anaconda3\\envs\\HMM\\lib\\site-packages\\numpy\\core\\fromnumeric.py:479\u001B[0m, in \u001B[0;36mrepeat\u001B[1;34m(a, repeats, axis)\u001B[0m\n\u001B[0;32m    436\u001B[0m \u001B[38;5;129m@array_function_dispatch\u001B[39m(_repeat_dispatcher)\n\u001B[0;32m    437\u001B[0m \u001B[38;5;28;01mdef\u001B[39;00m \u001B[38;5;21mrepeat\u001B[39m(a, repeats, axis\u001B[38;5;241m=\u001B[39m\u001B[38;5;28;01mNone\u001B[39;00m):\n\u001B[0;32m    438\u001B[0m     \u001B[38;5;124;03m\"\"\"\u001B[39;00m\n\u001B[0;32m    439\u001B[0m \u001B[38;5;124;03m    Repeat elements of an array.\u001B[39;00m\n\u001B[0;32m    440\u001B[0m \n\u001B[1;32m   (...)\u001B[0m\n\u001B[0;32m    477\u001B[0m \n\u001B[0;32m    478\u001B[0m \u001B[38;5;124;03m    \"\"\"\u001B[39;00m\n\u001B[1;32m--> 479\u001B[0m     \u001B[38;5;28;01mreturn\u001B[39;00m \u001B[43m_wrapfunc\u001B[49m\u001B[43m(\u001B[49m\u001B[43ma\u001B[49m\u001B[43m,\u001B[49m\u001B[43m \u001B[49m\u001B[38;5;124;43m'\u001B[39;49m\u001B[38;5;124;43mrepeat\u001B[39;49m\u001B[38;5;124;43m'\u001B[39;49m\u001B[43m,\u001B[49m\u001B[43m \u001B[49m\u001B[43mrepeats\u001B[49m\u001B[43m,\u001B[49m\u001B[43m \u001B[49m\u001B[43maxis\u001B[49m\u001B[38;5;241;43m=\u001B[39;49m\u001B[43maxis\u001B[49m\u001B[43m)\u001B[49m\n",
      "File \u001B[1;32m~\\anaconda3\\envs\\HMM\\lib\\site-packages\\numpy\\core\\fromnumeric.py:57\u001B[0m, in \u001B[0;36m_wrapfunc\u001B[1;34m(obj, method, *args, **kwds)\u001B[0m\n\u001B[0;32m     54\u001B[0m     \u001B[38;5;28;01mreturn\u001B[39;00m _wrapit(obj, method, \u001B[38;5;241m*\u001B[39margs, \u001B[38;5;241m*\u001B[39m\u001B[38;5;241m*\u001B[39mkwds)\n\u001B[0;32m     56\u001B[0m \u001B[38;5;28;01mtry\u001B[39;00m:\n\u001B[1;32m---> 57\u001B[0m     \u001B[38;5;28;01mreturn\u001B[39;00m bound(\u001B[38;5;241m*\u001B[39margs, \u001B[38;5;241m*\u001B[39m\u001B[38;5;241m*\u001B[39mkwds)\n\u001B[0;32m     58\u001B[0m \u001B[38;5;28;01mexcept\u001B[39;00m \u001B[38;5;167;01mTypeError\u001B[39;00m:\n\u001B[0;32m     59\u001B[0m     \u001B[38;5;66;03m# A TypeError occurs if the object does have such a method in its\u001B[39;00m\n\u001B[0;32m     60\u001B[0m     \u001B[38;5;66;03m# class, but its signature is not identical to that of NumPy's. This\u001B[39;00m\n\u001B[1;32m   (...)\u001B[0m\n\u001B[0;32m     64\u001B[0m     \u001B[38;5;66;03m# Call _wrapit from within the except clause to ensure a potential\u001B[39;00m\n\u001B[0;32m     65\u001B[0m     \u001B[38;5;66;03m# exception has a traceback chain.\u001B[39;00m\n\u001B[0;32m     66\u001B[0m     \u001B[38;5;28;01mreturn\u001B[39;00m _wrapit(obj, method, \u001B[38;5;241m*\u001B[39margs, \u001B[38;5;241m*\u001B[39m\u001B[38;5;241m*\u001B[39mkwds)\n",
      "File \u001B[1;32m~\\anaconda3\\envs\\HMM\\lib\\site-packages\\numpy\\matrixlib\\defmatrix.py:180\u001B[0m, in \u001B[0;36mmatrix.__array_finalize__\u001B[1;34m(self, obj)\u001B[0m\n\u001B[0;32m    178\u001B[0m         \u001B[38;5;28;01mreturn\u001B[39;00m\n\u001B[0;32m    179\u001B[0m     \u001B[38;5;28;01melif\u001B[39;00m (ndim \u001B[38;5;241m>\u001B[39m \u001B[38;5;241m2\u001B[39m):\n\u001B[1;32m--> 180\u001B[0m         \u001B[38;5;28;01mraise\u001B[39;00m \u001B[38;5;167;01mValueError\u001B[39;00m(\u001B[38;5;124m\"\u001B[39m\u001B[38;5;124mshape too large to be a matrix.\u001B[39m\u001B[38;5;124m\"\u001B[39m)\n\u001B[0;32m    181\u001B[0m \u001B[38;5;28;01melse\u001B[39;00m:\n\u001B[0;32m    182\u001B[0m     newshape \u001B[38;5;241m=\u001B[39m \u001B[38;5;28mself\u001B[39m\u001B[38;5;241m.\u001B[39mshape\n",
      "\u001B[1;31mValueError\u001B[0m: shape too large to be a matrix."
     ]
    }
   ],
   "source": [
    "a_new = np.repeat(a[:,:, np.newaxis], beta.shape[1]-1, axis=2)\n",
    "gamma_new = np.repeat(gamma[:,:, np.newaxis], beta.shape[1]-1, axis=2)\n"
   ],
   "metadata": {
    "collapsed": false,
    "pycharm": {
     "name": "#%%\n"
    }
   }
  },
  {
   "cell_type": "code",
   "execution_count": 72,
   "outputs": [
    {
     "data": {
      "text/plain": "(2, 2, 1)"
     },
     "execution_count": 72,
     "metadata": {},
     "output_type": "execute_result"
    }
   ],
   "source": [
    "a[:,:, np.newaxis].shape"
   ],
   "metadata": {
    "collapsed": false,
    "pycharm": {
     "name": "#%%\n"
    }
   }
  },
  {
   "cell_type": "code",
   "execution_count": 75,
   "outputs": [
    {
     "data": {
      "text/plain": "(2, 2)"
     },
     "execution_count": 75,
     "metadata": {},
     "output_type": "execute_result"
    }
   ],
   "source": [
    "np.repeat( a[:,:, np.newaxis] , 1, axis = 2).shape"
   ],
   "metadata": {
    "collapsed": false,
    "pycharm": {
     "name": "#%%\n"
    }
   }
  },
  {
   "cell_type": "code",
   "execution_count": 69,
   "outputs": [
    {
     "ename": "ValueError",
     "evalue": "shape too large to be a matrix.",
     "output_type": "error",
     "traceback": [
      "\u001B[1;31m---------------------------------------------------------------------------\u001B[0m",
      "\u001B[1;31mValueError\u001B[0m                                Traceback (most recent call last)",
      "Input \u001B[1;32mIn [69]\u001B[0m, in \u001B[0;36m<cell line: 1>\u001B[1;34m()\u001B[0m\n\u001B[1;32m----> 1\u001B[0m a_new \u001B[38;5;241m=\u001B[39m \u001B[43mnp\u001B[49m\u001B[38;5;241;43m.\u001B[39;49m\u001B[43mrepeat\u001B[49m\u001B[43m(\u001B[49m\u001B[43ma\u001B[49m\u001B[43m[\u001B[49m\u001B[43m:\u001B[49m\u001B[43m,\u001B[49m\u001B[43m:\u001B[49m\u001B[43m,\u001B[49m\u001B[43m \u001B[49m\u001B[43mnp\u001B[49m\u001B[38;5;241;43m.\u001B[39;49m\u001B[43mnewaxis\u001B[49m\u001B[43m]\u001B[49m\u001B[43m,\u001B[49m\u001B[43m \u001B[49m\u001B[43mbeta\u001B[49m\u001B[38;5;241;43m.\u001B[39;49m\u001B[43mshape\u001B[49m\u001B[43m[\u001B[49m\u001B[38;5;241;43m1\u001B[39;49m\u001B[43m]\u001B[49m\u001B[38;5;241;43m-\u001B[39;49m\u001B[38;5;241;43m1\u001B[39;49m\u001B[43m,\u001B[49m\u001B[43m \u001B[49m\u001B[43maxis\u001B[49m\u001B[38;5;241;43m=\u001B[39;49m\u001B[38;5;241;43m2\u001B[39;49m\u001B[43m)\u001B[49m\n",
      "File \u001B[1;32m<__array_function__ internals>:200\u001B[0m, in \u001B[0;36mrepeat\u001B[1;34m(*args, **kwargs)\u001B[0m\n",
      "File \u001B[1;32m~\\anaconda3\\envs\\HMM\\lib\\site-packages\\numpy\\core\\fromnumeric.py:479\u001B[0m, in \u001B[0;36mrepeat\u001B[1;34m(a, repeats, axis)\u001B[0m\n\u001B[0;32m    436\u001B[0m \u001B[38;5;129m@array_function_dispatch\u001B[39m(_repeat_dispatcher)\n\u001B[0;32m    437\u001B[0m \u001B[38;5;28;01mdef\u001B[39;00m \u001B[38;5;21mrepeat\u001B[39m(a, repeats, axis\u001B[38;5;241m=\u001B[39m\u001B[38;5;28;01mNone\u001B[39;00m):\n\u001B[0;32m    438\u001B[0m     \u001B[38;5;124;03m\"\"\"\u001B[39;00m\n\u001B[0;32m    439\u001B[0m \u001B[38;5;124;03m    Repeat elements of an array.\u001B[39;00m\n\u001B[0;32m    440\u001B[0m \n\u001B[1;32m   (...)\u001B[0m\n\u001B[0;32m    477\u001B[0m \n\u001B[0;32m    478\u001B[0m \u001B[38;5;124;03m    \"\"\"\u001B[39;00m\n\u001B[1;32m--> 479\u001B[0m     \u001B[38;5;28;01mreturn\u001B[39;00m \u001B[43m_wrapfunc\u001B[49m\u001B[43m(\u001B[49m\u001B[43ma\u001B[49m\u001B[43m,\u001B[49m\u001B[43m \u001B[49m\u001B[38;5;124;43m'\u001B[39;49m\u001B[38;5;124;43mrepeat\u001B[39;49m\u001B[38;5;124;43m'\u001B[39;49m\u001B[43m,\u001B[49m\u001B[43m \u001B[49m\u001B[43mrepeats\u001B[49m\u001B[43m,\u001B[49m\u001B[43m \u001B[49m\u001B[43maxis\u001B[49m\u001B[38;5;241;43m=\u001B[39;49m\u001B[43maxis\u001B[49m\u001B[43m)\u001B[49m\n",
      "File \u001B[1;32m~\\anaconda3\\envs\\HMM\\lib\\site-packages\\numpy\\core\\fromnumeric.py:57\u001B[0m, in \u001B[0;36m_wrapfunc\u001B[1;34m(obj, method, *args, **kwds)\u001B[0m\n\u001B[0;32m     54\u001B[0m     \u001B[38;5;28;01mreturn\u001B[39;00m _wrapit(obj, method, \u001B[38;5;241m*\u001B[39margs, \u001B[38;5;241m*\u001B[39m\u001B[38;5;241m*\u001B[39mkwds)\n\u001B[0;32m     56\u001B[0m \u001B[38;5;28;01mtry\u001B[39;00m:\n\u001B[1;32m---> 57\u001B[0m     \u001B[38;5;28;01mreturn\u001B[39;00m bound(\u001B[38;5;241m*\u001B[39margs, \u001B[38;5;241m*\u001B[39m\u001B[38;5;241m*\u001B[39mkwds)\n\u001B[0;32m     58\u001B[0m \u001B[38;5;28;01mexcept\u001B[39;00m \u001B[38;5;167;01mTypeError\u001B[39;00m:\n\u001B[0;32m     59\u001B[0m     \u001B[38;5;66;03m# A TypeError occurs if the object does have such a method in its\u001B[39;00m\n\u001B[0;32m     60\u001B[0m     \u001B[38;5;66;03m# class, but its signature is not identical to that of NumPy's. This\u001B[39;00m\n\u001B[1;32m   (...)\u001B[0m\n\u001B[0;32m     64\u001B[0m     \u001B[38;5;66;03m# Call _wrapit from within the except clause to ensure a potential\u001B[39;00m\n\u001B[0;32m     65\u001B[0m     \u001B[38;5;66;03m# exception has a traceback chain.\u001B[39;00m\n\u001B[0;32m     66\u001B[0m     \u001B[38;5;28;01mreturn\u001B[39;00m _wrapit(obj, method, \u001B[38;5;241m*\u001B[39margs, \u001B[38;5;241m*\u001B[39m\u001B[38;5;241m*\u001B[39mkwds)\n",
      "File \u001B[1;32m~\\anaconda3\\envs\\HMM\\lib\\site-packages\\numpy\\matrixlib\\defmatrix.py:180\u001B[0m, in \u001B[0;36mmatrix.__array_finalize__\u001B[1;34m(self, obj)\u001B[0m\n\u001B[0;32m    178\u001B[0m         \u001B[38;5;28;01mreturn\u001B[39;00m\n\u001B[0;32m    179\u001B[0m     \u001B[38;5;28;01melif\u001B[39;00m (ndim \u001B[38;5;241m>\u001B[39m \u001B[38;5;241m2\u001B[39m):\n\u001B[1;32m--> 180\u001B[0m         \u001B[38;5;28;01mraise\u001B[39;00m \u001B[38;5;167;01mValueError\u001B[39;00m(\u001B[38;5;124m\"\u001B[39m\u001B[38;5;124mshape too large to be a matrix.\u001B[39m\u001B[38;5;124m\"\u001B[39m)\n\u001B[0;32m    181\u001B[0m \u001B[38;5;28;01melse\u001B[39;00m:\n\u001B[0;32m    182\u001B[0m     newshape \u001B[38;5;241m=\u001B[39m \u001B[38;5;28mself\u001B[39m\u001B[38;5;241m.\u001B[39mshape\n",
      "\u001B[1;31mValueError\u001B[0m: shape too large to be a matrix."
     ]
    }
   ],
   "source": [
    "a_new = np.repeat(a[:,:, np.newaxis], beta.shape[1]-1, axis=2)\n"
   ],
   "metadata": {
    "collapsed": false,
    "pycharm": {
     "name": "#%%\n"
    }
   }
  },
  {
   "cell_type": "code",
   "execution_count": 79,
   "outputs": [
    {
     "data": {
      "text/plain": "matrix([[[0.2, 0.4],\n         [0.2, 0.4],\n         [0.2, 0.3],\n         [0.6, 0.3]]])"
     },
     "execution_count": 79,
     "metadata": {},
     "output_type": "execute_result"
    }
   ],
   "source": [
    "b[:, o[1:]].T[np.newaxis, :, :]"
   ],
   "metadata": {
    "collapsed": false,
    "pycharm": {
     "name": "#%%\n"
    }
   }
  },
  {
   "cell_type": "code",
   "execution_count": 87,
   "outputs": [],
   "source": [
    "xsi = np.einsum(\"it,ij,jt,jt ,it -> ijt\", gamma[:,:-1], a, b[:, o[1:]] , beta[:, 1:] , (1/ beta[:, :-1]) )"
   ],
   "metadata": {
    "collapsed": false,
    "pycharm": {
     "name": "#%%\n"
    }
   }
  },
  {
   "cell_type": "code",
   "execution_count": 89,
   "outputs": [
    {
     "data": {
      "text/plain": "(2, 2, 4)"
     },
     "execution_count": 89,
     "metadata": {},
     "output_type": "execute_result"
    }
   ],
   "source": [
    "xsi.shape"
   ],
   "metadata": {
    "collapsed": false,
    "pycharm": {
     "name": "#%%\n"
    }
   }
  },
  {
   "cell_type": "code",
   "execution_count": 97,
   "outputs": [],
   "source": [
    "import scipy"
   ],
   "metadata": {
    "collapsed": false,
    "pycharm": {
     "name": "#%%\n"
    }
   }
  },
  {
   "cell_type": "code",
   "execution_count": 105,
   "outputs": [
    {
     "data": {
      "text/plain": "array([0.39894228, 0.24197072, 0.24197072])"
     },
     "execution_count": 105,
     "metadata": {},
     "output_type": "execute_result"
    }
   ],
   "source": [
    "scipy.stats.norm.pdf([1,2,2],loc = 1, scale = 1)"
   ],
   "metadata": {
    "collapsed": false,
    "pycharm": {
     "name": "#%%\n"
    }
   }
  },
  {
   "cell_type": "code",
   "execution_count": 110,
   "outputs": [],
   "source": [
    "means_ = (0,0)\n",
    "standard_devs_ = (1,4)\n",
    "obs_ = (0.5,0.3,0.12)\n",
    "\n",
    "arr_ = np.array([scipy.stats.norm.pdf(obs_, means_[i], standard_devs_[i]) for i in range(len(means_))])"
   ],
   "metadata": {
    "collapsed": false,
    "pycharm": {
     "name": "#%%\n"
    }
   }
  },
  {
   "cell_type": "code",
   "execution_count": 111,
   "outputs": [
    {
     "data": {
      "text/plain": "(2, 3)"
     },
     "execution_count": 111,
     "metadata": {},
     "output_type": "execute_result"
    }
   ],
   "source": [
    "arr_.shape"
   ],
   "metadata": {
    "collapsed": false,
    "pycharm": {
     "name": "#%%\n"
    }
   }
  },
  {
   "cell_type": "code",
   "execution_count": 91,
   "outputs": [
    {
     "data": {
      "text/plain": "array([[[0.32      , 0.24      , 0.21333333, 0.6       ],\n        [0.16      , 0.12      , 0.08      , 0.075     ]],\n\n       [[0.12      , 0.09      , 0.08      , 0.225     ],\n        [0.56      , 0.42      , 0.28      , 0.2625    ]]])"
     },
     "execution_count": 91,
     "metadata": {},
     "output_type": "execute_result"
    }
   ],
   "source": [
    "xsi"
   ],
   "metadata": {
    "collapsed": false,
    "pycharm": {
     "name": "#%%\n"
    }
   }
  },
  {
   "cell_type": "code",
   "execution_count": 96,
   "outputs": [
    {
     "data": {
      "text/plain": "1"
     },
     "execution_count": 96,
     "metadata": {},
     "output_type": "execute_result"
    }
   ],
   "source": [
    "gamma[0,3]"
   ],
   "metadata": {
    "collapsed": false,
    "pycharm": {
     "name": "#%%\n"
    }
   }
  },
  {
   "cell_type": "code",
   "execution_count": 93,
   "outputs": [
    {
     "data": {
      "text/plain": "0.075"
     },
     "execution_count": 93,
     "metadata": {},
     "output_type": "execute_result"
    }
   ],
   "source": [
    "xsi[0,1,3]"
   ],
   "metadata": {
    "collapsed": false,
    "pycharm": {
     "name": "#%%\n"
    }
   }
  },
  {
   "cell_type": "code",
   "execution_count": 86,
   "outputs": [
    {
     "ename": "ValueError",
     "evalue": "operands could not be broadcast together with remapped shapes [original->remapped]: (2,4)->(2,4,newaxis) (2,2)->(2,newaxis,2) (4,4)->(4,4) (2,4)->(4,2) ",
     "output_type": "error",
     "traceback": [
      "\u001B[1;31m---------------------------------------------------------------------------\u001B[0m",
      "\u001B[1;31mValueError\u001B[0m                                Traceback (most recent call last)",
      "Input \u001B[1;32mIn [86]\u001B[0m, in \u001B[0;36m<cell line: 1>\u001B[1;34m()\u001B[0m\n\u001B[1;32m----> 1\u001B[0m xsi \u001B[38;5;241m=\u001B[39m \u001B[43mnp\u001B[49m\u001B[38;5;241;43m.\u001B[39;49m\u001B[43meinsum\u001B[49m\u001B[43m(\u001B[49m\u001B[38;5;124;43m\"\u001B[39;49m\u001B[38;5;124;43mit,ij,jt,jt->it\u001B[39;49m\u001B[38;5;124;43m\"\u001B[39;49m\u001B[43m,\u001B[49m\u001B[43m \u001B[49m\u001B[43mgamma\u001B[49m\u001B[43m[\u001B[49m\u001B[43m:\u001B[49m\u001B[43m,\u001B[49m\u001B[43m:\u001B[49m\u001B[38;5;241;43m-\u001B[39;49m\u001B[38;5;241;43m1\u001B[39;49m\u001B[43m]\u001B[49m\u001B[43m,\u001B[49m\u001B[43m \u001B[49m\u001B[43ma\u001B[49m\u001B[43m,\u001B[49m\u001B[43m \u001B[49m\u001B[43mb\u001B[49m\u001B[43m[\u001B[49m\u001B[43m:\u001B[49m\u001B[43m,\u001B[49m\u001B[43m \u001B[49m\u001B[43mo\u001B[49m\u001B[43m[\u001B[49m\u001B[38;5;241;43m1\u001B[39;49m\u001B[43m:\u001B[49m\u001B[43m]\u001B[49m\u001B[43m]\u001B[49m\u001B[38;5;241;43m.\u001B[39;49m\u001B[43mT\u001B[49m\u001B[43m \u001B[49m\u001B[38;5;241;43m*\u001B[39;49m\u001B[43m \u001B[49m\u001B[43mbeta\u001B[49m\u001B[43m[\u001B[49m\u001B[43m:\u001B[49m\u001B[43m,\u001B[49m\u001B[43m \u001B[49m\u001B[38;5;241;43m1\u001B[39;49m\u001B[43m:\u001B[49m\u001B[43m]\u001B[49m\u001B[43m,\u001B[49m\u001B[43m \u001B[49m\u001B[43m(\u001B[49m\u001B[38;5;241;43m1\u001B[39;49m\u001B[38;5;241;43m/\u001B[39;49m\u001B[43mbeta\u001B[49m\u001B[43m[\u001B[49m\u001B[43m:\u001B[49m\u001B[43m,\u001B[49m\u001B[43m \u001B[49m\u001B[43m:\u001B[49m\u001B[38;5;241;43m-\u001B[39;49m\u001B[38;5;241;43m1\u001B[39;49m\u001B[43m]\u001B[49m\u001B[43m)\u001B[49m\u001B[43m)\u001B[49m\n",
      "File \u001B[1;32m<__array_function__ internals>:200\u001B[0m, in \u001B[0;36meinsum\u001B[1;34m(*args, **kwargs)\u001B[0m\n",
      "File \u001B[1;32m~\\anaconda3\\envs\\HMM\\lib\\site-packages\\numpy\\core\\einsumfunc.py:1371\u001B[0m, in \u001B[0;36meinsum\u001B[1;34m(out, optimize, *operands, **kwargs)\u001B[0m\n\u001B[0;32m   1369\u001B[0m     \u001B[38;5;28;01mif\u001B[39;00m specified_out:\n\u001B[0;32m   1370\u001B[0m         kwargs[\u001B[38;5;124m'\u001B[39m\u001B[38;5;124mout\u001B[39m\u001B[38;5;124m'\u001B[39m] \u001B[38;5;241m=\u001B[39m out\n\u001B[1;32m-> 1371\u001B[0m     \u001B[38;5;28;01mreturn\u001B[39;00m c_einsum(\u001B[38;5;241m*\u001B[39moperands, \u001B[38;5;241m*\u001B[39m\u001B[38;5;241m*\u001B[39mkwargs)\n\u001B[0;32m   1373\u001B[0m \u001B[38;5;66;03m# Check the kwargs to avoid a more cryptic error later, without having to\u001B[39;00m\n\u001B[0;32m   1374\u001B[0m \u001B[38;5;66;03m# repeat default values here\u001B[39;00m\n\u001B[0;32m   1375\u001B[0m valid_einsum_kwargs \u001B[38;5;241m=\u001B[39m [\u001B[38;5;124m'\u001B[39m\u001B[38;5;124mdtype\u001B[39m\u001B[38;5;124m'\u001B[39m, \u001B[38;5;124m'\u001B[39m\u001B[38;5;124morder\u001B[39m\u001B[38;5;124m'\u001B[39m, \u001B[38;5;124m'\u001B[39m\u001B[38;5;124mcasting\u001B[39m\u001B[38;5;124m'\u001B[39m]\n",
      "\u001B[1;31mValueError\u001B[0m: operands could not be broadcast together with remapped shapes [original->remapped]: (2,4)->(2,4,newaxis) (2,2)->(2,newaxis,2) (4,4)->(4,4) (2,4)->(4,2) "
     ]
    }
   ],
   "source": [
    "xsi = np.einsum(\"it,ij,jt,jt->it\", gamma[:,:-1], a, b[:, o[1:]].T * beta[:, 1:], (1/beta[:, :-1]))\n"
   ],
   "metadata": {
    "collapsed": false,
    "pycharm": {
     "name": "#%%\n"
    }
   }
  },
  {
   "cell_type": "code",
   "execution_count": 23,
   "outputs": [],
   "source": [
    "def xsi(gamma, a, b, beta, o):\n",
    "    xsi = (gamma[:, :-1, np.newaxis] * a * b[:, o[1:]].T * beta[:, 1:]) / beta[:, :-1]\n",
    "    return xsi"
   ],
   "metadata": {
    "collapsed": false,
    "pycharm": {
     "name": "#%%\n"
    }
   }
  },
  {
   "cell_type": "code",
   "execution_count": 1,
   "outputs": [],
   "source": [
    "import jax.numpy as jnp"
   ],
   "metadata": {
    "collapsed": false,
    "pycharm": {
     "name": "#%%\n"
    }
   }
  },
  {
   "cell_type": "code",
   "execution_count": 3,
   "outputs": [],
   "source": [
    "A = np.array( [[1,2,3] , [4,5,6]])"
   ],
   "metadata": {
    "collapsed": false,
    "pycharm": {
     "name": "#%%\n"
    }
   }
  },
  {
   "cell_type": "code",
   "execution_count": 4,
   "outputs": [
    {
     "data": {
      "text/plain": "array([[1, 2, 3],\n       [4, 5, 6]])"
     },
     "execution_count": 4,
     "metadata": {},
     "output_type": "execute_result"
    }
   ],
   "source": [
    "A"
   ],
   "metadata": {
    "collapsed": false,
    "pycharm": {
     "name": "#%%\n"
    }
   }
  },
  {
   "cell_type": "code",
   "execution_count": 5,
   "outputs": [],
   "source": [
    "B = A.copy()"
   ],
   "metadata": {
    "collapsed": false,
    "pycharm": {
     "name": "#%%\n"
    }
   }
  },
  {
   "cell_type": "code",
   "execution_count": 6,
   "outputs": [
    {
     "data": {
      "text/plain": "array([[1, 2, 3],\n       [4, 5, 6]])"
     },
     "execution_count": 6,
     "metadata": {},
     "output_type": "execute_result"
    }
   ],
   "source": [
    "B"
   ],
   "metadata": {
    "collapsed": false,
    "pycharm": {
     "name": "#%%\n"
    }
   }
  },
  {
   "cell_type": "code",
   "execution_count": 11,
   "outputs": [
    {
     "data": {
      "text/plain": "(2, 3, 2, 3)"
     },
     "execution_count": 11,
     "metadata": {},
     "output_type": "execute_result"
    }
   ],
   "source": [
    "np.tensordot(A,B, axes = 0).shape"
   ],
   "metadata": {
    "collapsed": false,
    "pycharm": {
     "name": "#%%\n"
    }
   }
  },
  {
   "cell_type": "code",
   "execution_count": 19,
   "outputs": [
    {
     "data": {
      "text/plain": "array(91)"
     },
     "execution_count": 19,
     "metadata": {},
     "output_type": "execute_result"
    }
   ],
   "source": [
    "np.tensordot(A,B, axes=([0,1],[0,1]))"
   ],
   "metadata": {
    "collapsed": false,
    "pycharm": {
     "name": "#%%\n"
    }
   }
  },
  {
   "cell_type": "code",
   "execution_count": 20,
   "outputs": [
    {
     "data": {
      "text/plain": "array([[1, 2, 3],\n       [4, 5, 6]])"
     },
     "execution_count": 20,
     "metadata": {},
     "output_type": "execute_result"
    }
   ],
   "source": [
    "A"
   ],
   "metadata": {
    "collapsed": false,
    "pycharm": {
     "name": "#%%\n"
    }
   }
  },
  {
   "cell_type": "code",
   "execution_count": null,
   "outputs": [],
   "source": [],
   "metadata": {
    "collapsed": false,
    "pycharm": {
     "name": "#%%\n"
    }
   }
  },
  {
   "cell_type": "code",
   "execution_count": null,
   "outputs": [],
   "source": [],
   "metadata": {
    "collapsed": false,
    "pycharm": {
     "name": "#%%\n"
    }
   }
  },
  {
   "cell_type": "code",
   "execution_count": null,
   "outputs": [],
   "source": [],
   "metadata": {
    "collapsed": false,
    "pycharm": {
     "name": "#%%\n"
    }
   }
  },
  {
   "cell_type": "code",
   "execution_count": 5,
   "outputs": [],
   "source": [
    "\n",
    "def sis_estimator(obs, num_bins, iters, num_hidden_states,\n",
    "                  bin_weight_prior_par=None, latent_prior_par=None,\n",
    "                  is_mixture=True, output_latents=False):\n",
    "    if bin_weight_prior_par is None:\n",
    "        bin_weight_prior_par = jnp.ones(num_bins)\n",
    "    if latent_prior_par is None:\n",
    "        latent_prior_par = jnp.ones(num_hidden_states)\n",
    "    assert num_hidden_states == len(latent_prior_par)\n",
    "    assert num_bins == len(bin_weight_prior_par)\n",
    "    if is_mixture:\n",
    "        num_obs = obs.shape[1]\n",
    "        obs_dim = obs.shape[0]\n",
    "        assert obs_dim >= 3\n",
    "    else:\n",
    "        obs = jnp.asarray([obs])\n",
    "        obs = jnp.resize(obs, (min(obs.shape[0], obs.shape[1]), max(obs.shape[0], obs.shape[1])))\n",
    "        num_obs = obs.shape[1]\n",
    "\n",
    "    log_evidence_weights = jnp.zeros(iters)\n",
    "\n",
    "    if output_latents:\n",
    "        latents_ls = jnp.zeros((iters, num_obs))\n",
    "\n",
    "    for sis_iter in range(iters):\n",
    "        if sis_iter % 10 == 0:\n",
    "            print(f'{sis_iter} Iteration number')\n",
    "        latents = jnp.zeros(num_obs)\n",
    "        latent_prob = latent_prior_par / jnp.sum(latent_prior_par)\n",
    "        latents[0] = rv_discrete(values=(jnp.arange(1, num_hidden_states + 1), latent_prob)).rvs()\n",
    "        log_evidence_weights[sis_iter] = baseline_log_evidence(obs[:, 0], num_bins, bin_weight_prior_par, is_mixture=is_mixture)\n",
    "\n",
    "        for data_idx in range(1, num_obs):\n",
    "            gamma = jnp.zeros(num_hidden_states)\n",
    "            for state in range(num_hidden_states):\n",
    "                gamma[state] = gamma_coef(data_idx, state, obs, latents[:data_idx], num_bins, num_hidden_states, bin_weight_prior_par, latent_prior_par, is_mixture)\n",
    "            if jnp.sum(gamma) == 0:\n",
    "                print(\"Error: sum of gamma is equal to zero\")\n",
    "            latent_prob = gamma / jnp.sum(gamma)\n",
    "            latents[data_idx] = rv_discrete(values=(jnp.arange(1, num_hidden_states + 1), latent_prob)).rvs()\n",
    "            log_evidence_weights[sis_iter] += jnp.log(jnp.sum(gamma))\n",
    "\n",
    "        if output_latents:\n",
    "            latents_ls[sis_iter, :] = latents\n",
    "\n",
    "    if output_latents:\n",
    "        return {'evidence': log_evidence_weights, 'latents': latent_ls}\n",
    "    else:\n",
    "        return {'evidence': log_evidence_weights }\n",
    "\n",
    "\n",
    "def gamma_coef(idx, state, obs, latents, num_bins, num_states, bin_weight_prior_par, latent_prior_par, is_mixture=True):\n",
    "    assert idx <= (len(latents) + 1)\n",
    "    assert idx >= 2\n",
    "    if is_mixture:\n",
    "        obs_upto_idx = jnp.asarray(obs[:, :idx - 1])\n",
    "        eff_obs = jnp.asarray(obs_upto_idx[:, latents[:idx - 1] == state])\n",
    "    else:\n",
    "        obs_upto_idx = jnp.asarray(obs[:, :idx - 1]).T\n",
    "        eff_obs = jnp.asarray(obs_upto_idx[:, latents[:idx - 1] == state]).T\n",
    "\n",
    "    log_evid_new = baseline_log_evidence(jnp.column_stack([eff_obs, obs[:, idx]]), num_bins, bin_weight_prior_par, is_mixture)\n",
    "    log_evid_old = baseline_log_evidence(eff_obs, num_bins, bin_weight_prior_par, is_mixture)\n",
    "    posterior_latent_weight = post_latent_weight(state, latents[:idx-1], num_states, latent_prior_par, start_state=latents[idx-1], is_mixture=is_mixture)\n",
    "    evid_ratio = jnp.exp(log_evid_new - log_evid_old)\n",
    "    return evid_ratio * posterior_latent_weight\n",
    "\n",
    "def transition_count(latent_states, num_states):\n",
    "    if len(latent_states) <= 1:\n",
    "        return jnp.zeros((num_states, num_states))\n",
    "    sample_size = len(latent_states)\n",
    "    start_states = latent_states[1:(sample_size-1)]\n",
    "    end_states = latent_states[2:sample_size]\n",
    "    transition_count_mat = jnp.zeros((num_states, num_states))\n",
    "    for i in range(sample_size-1):\n",
    "        transition_count_mat[start_states[i], end_states[i]] += 1\n",
    "    return transition_count_mat\n",
    "\n",
    "\n",
    "def baseline_log_evidence(obs, num_bins, bin_weight_prior_par, is_mixture=True):\n",
    "    if obs.shape[0] == 0:\n",
    "        return 0\n",
    "\n",
    "    if is_mixture:\n",
    "        obs_dim = obs.shape[0]\n",
    "        log_evidence = 0\n",
    "        for dim in range(obs_dim):\n",
    "            bin_counts = jnp.bincount(obs[dim, :], minlength=num_bins)\n",
    "            bin_weight_posterior_par = bin_weight_prior_par + bin_counts\n",
    "            log_evidence += (jnp.sum(lax.lgamma(bin_weight_posterior_par)) - lax.lgamma(jnp.sum(bin_weight_posterior_par))\n",
    "                             + lax.lgamma(jnp.sum(bin_weight_prior_par)) - jnp.sum(lax.lgamma(bin_weight_prior_par))\n",
    "                             )\n",
    "    else:\n",
    "        bin_counts = jnp.bincount(obs, minlength=num_bins)\n",
    "        bin_weight_posterior_par = bin_weight_prior_par + bin_counts\n",
    "        log_evidence = (jnp.sum(lax.lgamma(bin_weight_posterior_par)) - lax.lgamma(jnp.sum(bin_weight_posterior_par))\n",
    "                        + lax.lgamma(jnp.sum(bin_weight_prior_par)) - jnp.sum(lax.lgamma(bin_weight_prior_par))\n",
    "                        )\n",
    "    return log_evidence\n",
    "\n",
    "\n",
    "def post_latent_weight(state, latents, num_states, latent_prior_par, start_state = None, is_mixture = True):\n",
    "    if is_mixture:\n",
    "        state_counts = jnp.bincount(latents, minlength=num_states)\n",
    "        latent_post_par = latent_prior_par + state_counts\n",
    "        return latent_post_par[state] / jnp.sum(latent_post_par)\n",
    "    else:\n",
    "        # need non-null start state\n",
    "        if start_state is None:\n",
    "            raise ValueError(\"When is_mixture=False, a non-null start_state must be provided\")\n",
    "        transition_counts_from_start_state = transition_count(latent_states = latents, num_states = num_states)[start_state,]\n",
    "        latent_post_par = latent_prior_par + transition_counts_from_start_state\n",
    "        return latent_post_par[state] / jnp.sum(latent_post_par)\n"
   ],
   "metadata": {
    "collapsed": false,
    "pycharm": {
     "name": "#%%\n"
    }
   }
  },
  {
   "cell_type": "code",
   "execution_count": 6,
   "outputs": [],
   "source": [
    "def simulate_hmm(transition_matrix, means=None, variances=None,\n",
    "                 emission_probabilities=None, initial_distribution=None,\n",
    "                 seed=0):\n",
    "    n_states = transition_matrix.shape[0]\n",
    "    n_steps = 10\n",
    "    # Check if shapes of inputs are consistent\n",
    "    if transition_matrix.shape[0] != n_states:\n",
    "        raise ValueError(f\"Number of rows in transition matrix should be {n_states}\")\n",
    "    if transition_matrix.shape[1] != n_states:\n",
    "        raise ValueError(f\"Number of columns in transition matrix should be {n_states}\")\n",
    "    if means is not None and variances is not None:\n",
    "        if len(means) != n_states or len(variances) != n_states:\n",
    "            raise ValueError(f\"Number of means and variances should be {n_states}\")\n",
    "    if emission_probabilities is not None:\n",
    "        if emission_probabilities.shape[0] != n_states:\n",
    "            raise ValueError(f\"Number of rows in observed_categories should be {n_states}\")\n",
    "    # Compute stationary distribution if no initial distribution is provided\n",
    "    if initial_distribution is None:\n",
    "        leading_eigenvector = jnp.linalg.eig(transition_matrix.T)[1][:, 0]\n",
    "        initial_distribution = jnp.abs(leading_eigenvector) / jnp.sum(jnp.abs(leading_eigenvector))\n",
    "    # Set random seed\n",
    "    print(f'Computed stat dist')\n",
    "    random.seed(seed)\n",
    "    hidden_chain = [random.categorical(key, initial_distribution)]\n",
    "    observations = []\n",
    "    if means is not None and variances is not None:\n",
    "        observations.append(random.normal(subkey, means[hidden_chain[0]], variances[hidden_chain[0]]))\n",
    "    elif emission_probabilities is not None:\n",
    "        observations.append(random.categorical(subkey, emission_probabilities[hidden_chain[0]]))\n",
    "    else:\n",
    "        raise ValueError(\"Either means and variances or observed_categories should be provided\")\n",
    "    for i in range(1, n_steps):\n",
    "        print(f'Iteration {i}')\n",
    "        random.seed(seed + i )\n",
    "        hidden_chain.append(random.categorical(subkey, transition_matrix[hidden_chain[i - 1]]))\n",
    "        random.seed(seed + i * i )\n",
    "        if means is not None and variances is not None:\n",
    "            observations.append(random.normal(subkey, means[hidden_chain[i]], variances[hidden_chain[i]]))\n",
    "        elif emission_probabilities is not None:\n",
    "            observations.append(random.categorical(subkey, emission_probabilities[hidden_chain[i]]))\n",
    "    return hidden_chain, observations"
   ],
   "metadata": {
    "collapsed": false,
    "pycharm": {
     "name": "#%%\n"
    }
   }
  },
  {
   "cell_type": "code",
   "execution_count": 7,
   "outputs": [],
   "source": [
    "trans_mat = jnp.array([[0.7,0.3],[0.2,0.8]])"
   ],
   "metadata": {
    "collapsed": false,
    "pycharm": {
     "name": "#%%\n"
    }
   }
  },
  {
   "cell_type": "code",
   "execution_count": 8,
   "outputs": [
    {
     "data": {
      "text/plain": "DeviceArray([[0.7, 0.3],\n             [0.2, 0.8]], dtype=float32)"
     },
     "execution_count": 8,
     "metadata": {},
     "output_type": "execute_result"
    }
   ],
   "source": [
    "trans_mat"
   ],
   "metadata": {
    "collapsed": false,
    "pycharm": {
     "name": "#%%\n"
    }
   }
  },
  {
   "cell_type": "code",
   "execution_count": 9,
   "outputs": [],
   "source": [
    "emission_probabilities = jnp.array( [ [0.5,0.4,0.1 ] , [0.1,0.7,0.2] ])"
   ],
   "metadata": {
    "collapsed": false,
    "pycharm": {
     "name": "#%%\n"
    }
   }
  },
  {
   "cell_type": "code",
   "execution_count": 10,
   "outputs": [
    {
     "data": {
      "text/plain": "DeviceArray([[0.5, 0.4, 0.1],\n             [0.1, 0.7, 0.2]], dtype=float32)"
     },
     "execution_count": 10,
     "metadata": {},
     "output_type": "execute_result"
    }
   ],
   "source": [
    "emission_probabilities"
   ],
   "metadata": {
    "collapsed": false,
    "pycharm": {
     "name": "#%%\n"
    }
   }
  },
  {
   "cell_type": "code",
   "execution_count": null,
   "outputs": [],
   "source": [
    "simulated_data = simulate_hmm(transition_matrix=trans_mat,emission_probabilities=emission_probabilities)"
   ],
   "metadata": {
    "collapsed": false,
    "pycharm": {
     "name": "#%%time\n",
     "is_executing": true
    }
   }
  },
  {
   "cell_type": "code",
   "execution_count": 1,
   "outputs": [
    {
     "ename": "NameError",
     "evalue": "name 'simulated_data' is not defined",
     "output_type": "error",
     "traceback": [
      "\u001B[1;31m---------------------------------------------------------------------------\u001B[0m",
      "\u001B[1;31mNameError\u001B[0m                                 Traceback (most recent call last)",
      "Input \u001B[1;32mIn [1]\u001B[0m, in \u001B[0;36m<cell line: 1>\u001B[1;34m()\u001B[0m\n\u001B[1;32m----> 1\u001B[0m \u001B[43msimulated_data\u001B[49m\n",
      "\u001B[1;31mNameError\u001B[0m: name 'simulated_data' is not defined"
     ]
    }
   ],
   "source": [
    "simulated_data"
   ],
   "metadata": {
    "collapsed": false,
    "pycharm": {
     "name": "#%%\n"
    }
   }
  },
  {
   "cell_type": "code",
   "execution_count": 112,
   "outputs": [
    {
     "data": {
      "text/plain": "matrix([[0.8, 0.2],\n        [0.3, 0.7]])"
     },
     "execution_count": 112,
     "metadata": {},
     "output_type": "execute_result"
    }
   ],
   "source": [
    "a"
   ],
   "metadata": {
    "collapsed": false,
    "pycharm": {
     "name": "#%%\n"
    }
   }
  },
  {
   "cell_type": "code",
   "execution_count": 113,
   "outputs": [
    {
     "data": {
      "text/plain": "matrix([[0.6, 0.2, 0.2],\n        [0.3, 0.3, 0.4]])"
     },
     "execution_count": 113,
     "metadata": {},
     "output_type": "execute_result"
    }
   ],
   "source": [
    "b"
   ],
   "metadata": {
    "collapsed": false,
    "pycharm": {
     "name": "#%%\n"
    }
   }
  },
  {
   "cell_type": "code",
   "execution_count": 116,
   "outputs": [
    {
     "data": {
      "text/plain": "matrix([[0.8, 0.2],\n        [0.3, 0.7]])"
     },
     "execution_count": 116,
     "metadata": {},
     "output_type": "execute_result"
    }
   ],
   "source": [
    "a / np.sum(a, axis = 1)"
   ],
   "metadata": {
    "collapsed": false,
    "pycharm": {
     "name": "#%%\n"
    }
   }
  },
  {
   "cell_type": "code",
   "execution_count": 118,
   "outputs": [
    {
     "data": {
      "text/plain": "(2, 1)"
     },
     "execution_count": 118,
     "metadata": {},
     "output_type": "execute_result"
    }
   ],
   "source": [
    "np.sum(a,axis=1).shape"
   ],
   "metadata": {
    "collapsed": false,
    "pycharm": {
     "name": "#%%\n"
    }
   }
  },
  {
   "cell_type": "code",
   "execution_count": null,
   "outputs": [],
   "source": [],
   "metadata": {
    "collapsed": false,
    "pycharm": {
     "name": "#%%\n"
    }
   }
  }
 ],
 "metadata": {
  "kernelspec": {
   "display_name": "Python 3",
   "language": "python",
   "name": "python3"
  },
  "language_info": {
   "codemirror_mode": {
    "name": "ipython",
    "version": 2
   },
   "file_extension": ".py",
   "mimetype": "text/x-python",
   "name": "python",
   "nbconvert_exporter": "python",
   "pygments_lexer": "ipython2",
   "version": "2.7.6"
  }
 },
 "nbformat": 4,
 "nbformat_minor": 0
}