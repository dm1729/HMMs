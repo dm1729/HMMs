{
 "cells": [
  {
   "cell_type": "code",
   "execution_count": 5,
   "outputs": [],
   "source": [
    "import h5py\n",
    "import pandas as pd\n",
    "import matplotlib.pyplot as plt\n",
    "import numpy as np"
   ],
   "metadata": {
    "collapsed": false,
    "pycharm": {
     "name": "#%%\n"
    }
   }
  },
  {
   "cell_type": "markdown",
   "source": [
    "Loading the output of the binned sampler:"
   ],
   "metadata": {
    "collapsed": false,
    "pycharm": {
     "name": "#%% md\n"
    }
   }
  },
  {
   "cell_type": "code",
   "execution_count": 30,
   "outputs": [],
   "source": [
    "df_bin = pd.read_hdf(path_or_buf=\"test_dataframe.h5\", key = \"binned_output\")"
   ],
   "metadata": {
    "collapsed": false,
    "pycharm": {
     "name": "#%%\n"
    }
   }
  },
  {
   "cell_type": "code",
   "execution_count": 31,
   "outputs": [
    {
     "data": {
      "text/plain": "       log_likes  weight_state_1_bin_1  weight_state_1_bin_2  \\\n0   -1072.804426              0.242727              0.421528   \n1   -1077.460392              0.259024              0.435014   \n2   -1073.061029              0.275941              0.405248   \n3   -1071.524721              0.193571              0.344958   \n4   -1067.587547              0.124209              0.428600   \n..           ...                   ...                   ...   \n995 -1052.419920              0.123725              0.440500   \n996 -1054.017267              0.158378              0.406423   \n997 -1053.186142              0.084206              0.456153   \n998 -1052.474637              0.067625              0.392069   \n999 -1053.060678              0.042271              0.426851   \n\n     weight_state_1_bin_3  weight_state_2_bin_1  weight_state_2_bin_2  \\\n0                0.335745              0.252970              0.433018   \n1                0.305961              0.297732              0.444527   \n2                0.318812              0.224116              0.438262   \n3                0.461471              0.317967              0.481605   \n4                0.447192              0.432711              0.406955   \n..                    ...                   ...                   ...   \n995              0.435776              0.573195              0.418907   \n996              0.435200              0.543957              0.434147   \n997              0.459641              0.599267              0.392838   \n998              0.540306              0.495031              0.476394   \n999              0.530878              0.500557              0.403408   \n\n     weight_state_2_bin_3  trans_mat_row_1_col_1  trans_mat_row_1_col_2  \\\n0                0.314012               0.516861               0.483139   \n1                0.257741               0.523886               0.476114   \n2                0.337622               0.596654               0.403346   \n3                0.200427               0.633540               0.366460   \n4                0.160334               0.664146               0.335854   \n..                    ...                    ...                    ...   \n995              0.007898               0.894806               0.105194   \n996              0.021896               0.902933               0.097067   \n997              0.007895               0.880732               0.119268   \n998              0.028575               0.759346               0.240654   \n999              0.096036               0.768454               0.231546   \n\n     trans_mat_row_2_col_1  trans_mat_row_2_col_2  \n0                 0.560888               0.439112  \n1                 0.606877               0.393123  \n2                 0.552447               0.447553  \n3                 0.430239               0.569761  \n4                 0.476020               0.523980  \n..                     ...                    ...  \n995               0.250309               0.749691  \n996               0.299800               0.700200  \n997               0.287368               0.712632  \n998               0.308978               0.691022  \n999               0.264722               0.735278  \n\n[1000 rows x 11 columns]",
      "text/html": "<div>\n<style scoped>\n    .dataframe tbody tr th:only-of-type {\n        vertical-align: middle;\n    }\n\n    .dataframe tbody tr th {\n        vertical-align: top;\n    }\n\n    .dataframe thead th {\n        text-align: right;\n    }\n</style>\n<table border=\"1\" class=\"dataframe\">\n  <thead>\n    <tr style=\"text-align: right;\">\n      <th></th>\n      <th>log_likes</th>\n      <th>weight_state_1_bin_1</th>\n      <th>weight_state_1_bin_2</th>\n      <th>weight_state_1_bin_3</th>\n      <th>weight_state_2_bin_1</th>\n      <th>weight_state_2_bin_2</th>\n      <th>weight_state_2_bin_3</th>\n      <th>trans_mat_row_1_col_1</th>\n      <th>trans_mat_row_1_col_2</th>\n      <th>trans_mat_row_2_col_1</th>\n      <th>trans_mat_row_2_col_2</th>\n    </tr>\n  </thead>\n  <tbody>\n    <tr>\n      <th>0</th>\n      <td>-1072.804426</td>\n      <td>0.242727</td>\n      <td>0.421528</td>\n      <td>0.335745</td>\n      <td>0.252970</td>\n      <td>0.433018</td>\n      <td>0.314012</td>\n      <td>0.516861</td>\n      <td>0.483139</td>\n      <td>0.560888</td>\n      <td>0.439112</td>\n    </tr>\n    <tr>\n      <th>1</th>\n      <td>-1077.460392</td>\n      <td>0.259024</td>\n      <td>0.435014</td>\n      <td>0.305961</td>\n      <td>0.297732</td>\n      <td>0.444527</td>\n      <td>0.257741</td>\n      <td>0.523886</td>\n      <td>0.476114</td>\n      <td>0.606877</td>\n      <td>0.393123</td>\n    </tr>\n    <tr>\n      <th>2</th>\n      <td>-1073.061029</td>\n      <td>0.275941</td>\n      <td>0.405248</td>\n      <td>0.318812</td>\n      <td>0.224116</td>\n      <td>0.438262</td>\n      <td>0.337622</td>\n      <td>0.596654</td>\n      <td>0.403346</td>\n      <td>0.552447</td>\n      <td>0.447553</td>\n    </tr>\n    <tr>\n      <th>3</th>\n      <td>-1071.524721</td>\n      <td>0.193571</td>\n      <td>0.344958</td>\n      <td>0.461471</td>\n      <td>0.317967</td>\n      <td>0.481605</td>\n      <td>0.200427</td>\n      <td>0.633540</td>\n      <td>0.366460</td>\n      <td>0.430239</td>\n      <td>0.569761</td>\n    </tr>\n    <tr>\n      <th>4</th>\n      <td>-1067.587547</td>\n      <td>0.124209</td>\n      <td>0.428600</td>\n      <td>0.447192</td>\n      <td>0.432711</td>\n      <td>0.406955</td>\n      <td>0.160334</td>\n      <td>0.664146</td>\n      <td>0.335854</td>\n      <td>0.476020</td>\n      <td>0.523980</td>\n    </tr>\n    <tr>\n      <th>...</th>\n      <td>...</td>\n      <td>...</td>\n      <td>...</td>\n      <td>...</td>\n      <td>...</td>\n      <td>...</td>\n      <td>...</td>\n      <td>...</td>\n      <td>...</td>\n      <td>...</td>\n      <td>...</td>\n    </tr>\n    <tr>\n      <th>995</th>\n      <td>-1052.419920</td>\n      <td>0.123725</td>\n      <td>0.440500</td>\n      <td>0.435776</td>\n      <td>0.573195</td>\n      <td>0.418907</td>\n      <td>0.007898</td>\n      <td>0.894806</td>\n      <td>0.105194</td>\n      <td>0.250309</td>\n      <td>0.749691</td>\n    </tr>\n    <tr>\n      <th>996</th>\n      <td>-1054.017267</td>\n      <td>0.158378</td>\n      <td>0.406423</td>\n      <td>0.435200</td>\n      <td>0.543957</td>\n      <td>0.434147</td>\n      <td>0.021896</td>\n      <td>0.902933</td>\n      <td>0.097067</td>\n      <td>0.299800</td>\n      <td>0.700200</td>\n    </tr>\n    <tr>\n      <th>997</th>\n      <td>-1053.186142</td>\n      <td>0.084206</td>\n      <td>0.456153</td>\n      <td>0.459641</td>\n      <td>0.599267</td>\n      <td>0.392838</td>\n      <td>0.007895</td>\n      <td>0.880732</td>\n      <td>0.119268</td>\n      <td>0.287368</td>\n      <td>0.712632</td>\n    </tr>\n    <tr>\n      <th>998</th>\n      <td>-1052.474637</td>\n      <td>0.067625</td>\n      <td>0.392069</td>\n      <td>0.540306</td>\n      <td>0.495031</td>\n      <td>0.476394</td>\n      <td>0.028575</td>\n      <td>0.759346</td>\n      <td>0.240654</td>\n      <td>0.308978</td>\n      <td>0.691022</td>\n    </tr>\n    <tr>\n      <th>999</th>\n      <td>-1053.060678</td>\n      <td>0.042271</td>\n      <td>0.426851</td>\n      <td>0.530878</td>\n      <td>0.500557</td>\n      <td>0.403408</td>\n      <td>0.096036</td>\n      <td>0.768454</td>\n      <td>0.231546</td>\n      <td>0.264722</td>\n      <td>0.735278</td>\n    </tr>\n  </tbody>\n</table>\n<p>1000 rows × 11 columns</p>\n</div>"
     },
     "execution_count": 31,
     "metadata": {},
     "output_type": "execute_result"
    }
   ],
   "source": [
    "df_bin"
   ],
   "metadata": {
    "collapsed": false,
    "pycharm": {
     "name": "#%%\n"
    }
   }
  },
  {
   "cell_type": "markdown",
   "source": [
    "Loading the output of the cut sampler:"
   ],
   "metadata": {
    "collapsed": false,
    "pycharm": {
     "name": "#%% md\n"
    }
   }
  },
  {
   "cell_type": "code",
   "execution_count": 28,
   "outputs": [],
   "source": [
    "df =pd.read_hdf(path_or_buf=\"test_dataframe.h5\", key = \"cut_output\")"
   ],
   "metadata": {
    "collapsed": false,
    "pycharm": {
     "name": "#%%\n"
    }
   }
  },
  {
   "cell_type": "code",
   "execution_count": 29,
   "outputs": [
    {
     "data": {
      "text/plain": "    mix_weight_comp_25_state_2  mix_weight_comp_26_state_2  \\\n0                 2.717256e-46                8.165525e-02   \n1                 2.402854e-02                1.702639e-02   \n2                 1.333471e-02                4.062369e-02   \n3                 8.137591e-25                1.289720e-02   \n4                 2.061579e-38                5.221856e-03   \n5                 2.465381e-11                1.348044e-30   \n6                 4.571591e-14                2.616310e-08   \n7                 1.276907e-14                4.860263e-07   \n8                 4.603227e-19                3.264981e-32   \n9                 2.947109e-13                2.484186e-05   \n10                7.563206e-40                7.146243e-12   \n11                1.181422e-10                7.427544e-16   \n12                1.523222e-18                3.645605e-05   \n13                1.596783e-13                1.824251e-02   \n14                8.951099e-31                1.691342e-06   \n15                5.533180e-16                1.555426e-03   \n16                1.983152e-08                8.076464e-28   \n17                8.255118e-05                1.181327e-04   \n18                8.435531e-57                1.576893e-02   \n19                1.118401e-30                1.483880e-36   \n\n    mix_weight_comp_27_state_2  mix_weight_comp_28_state_2  \\\n0                 2.803374e-03                4.927929e-06   \n1                 2.735097e-28                2.730969e-29   \n2                 1.336082e-15                1.713422e-03   \n3                 8.594850e-17                6.366068e-03   \n4                 6.484061e-07                6.667077e-03   \n5                 4.710794e-06                3.528499e-26   \n6                 1.222984e-05                5.671709e-20   \n7                 3.860256e-06                4.122109e-14   \n8                 1.118087e-09                3.554939e-95   \n9                 6.170368e-08                2.627042e-05   \n10                1.046789e-07                3.119633e-23   \n11                1.301041e-06                3.058790e-15   \n12                1.506813e-08                8.843620e-24   \n13                2.480930e-20                6.894000e-14   \n14                3.036740e-20                1.089683e-27   \n15                8.623469e-10                3.462288e-11   \n16                2.710595e-16                2.565032e-22   \n17                4.880701e-19                5.256062e-20   \n18                1.462862e-08                1.102186e-03   \n19                5.584333e-06                4.713691e-07   \n\n    mix_weight_comp_29_state_2  mix_weight_comp_30_state_2  \\\n0                 5.862507e-29                1.305155e-20   \n1                 2.099441e-18                2.162735e-06   \n2                 5.992809e-04                1.456232e-35   \n3                 2.975973e-08                1.353727e-06   \n4                 1.715766e-06                1.586598e-08   \n5                 3.364450e-06                1.562989e-20   \n6                 8.286684e-22                6.597445e-20   \n7                 5.414211e-03                2.510050e-04   \n8                 2.657578e-02                1.058784e-20   \n9                 4.823489e-02                7.188249e-20   \n10                1.182306e-02                5.093893e-08   \n11                1.960517e-02                4.048464e-31   \n12                3.769926e-03                3.552480e-11   \n13                1.410241e-32                1.413556e-18   \n14                4.182669e-21                4.416781e-09   \n15                6.500911e-16                1.363495e-39   \n16                5.961414e-48                4.904930e-04   \n17                1.006805e-16                5.369035e-03   \n18                1.642621e-06                1.515288e-20   \n19                6.984658e-12                4.117859e-12   \n\n    mix_weight_comp_31_state_2  \n0                 2.887117e-01  \n1                 7.661341e-02  \n2                 1.790482e-02  \n3                 2.199203e-20  \n4                 2.695808e-32  \n5                 3.399443e-12  \n6                 2.810429e-10  \n7                 2.350908e-12  \n8                 3.041447e-43  \n9                 1.344557e-44  \n10                1.102490e-20  \n11                6.582356e-08  \n12                3.478334e-17  \n13                1.307487e-61  \n14                5.236957e-03  \n15                4.423478e-43  \n16                2.561179e-10  \n17                3.916382e-03  \n18                1.067066e-37  \n19                3.988838e-14  ",
      "text/html": "<div>\n<style scoped>\n    .dataframe tbody tr th:only-of-type {\n        vertical-align: middle;\n    }\n\n    .dataframe tbody tr th {\n        vertical-align: top;\n    }\n\n    .dataframe thead th {\n        text-align: right;\n    }\n</style>\n<table border=\"1\" class=\"dataframe\">\n  <thead>\n    <tr style=\"text-align: right;\">\n      <th></th>\n      <th>mix_weight_comp_25_state_2</th>\n      <th>mix_weight_comp_26_state_2</th>\n      <th>mix_weight_comp_27_state_2</th>\n      <th>mix_weight_comp_28_state_2</th>\n      <th>mix_weight_comp_29_state_2</th>\n      <th>mix_weight_comp_30_state_2</th>\n      <th>mix_weight_comp_31_state_2</th>\n    </tr>\n  </thead>\n  <tbody>\n    <tr>\n      <th>0</th>\n      <td>2.717256e-46</td>\n      <td>8.165525e-02</td>\n      <td>2.803374e-03</td>\n      <td>4.927929e-06</td>\n      <td>5.862507e-29</td>\n      <td>1.305155e-20</td>\n      <td>2.887117e-01</td>\n    </tr>\n    <tr>\n      <th>1</th>\n      <td>2.402854e-02</td>\n      <td>1.702639e-02</td>\n      <td>2.735097e-28</td>\n      <td>2.730969e-29</td>\n      <td>2.099441e-18</td>\n      <td>2.162735e-06</td>\n      <td>7.661341e-02</td>\n    </tr>\n    <tr>\n      <th>2</th>\n      <td>1.333471e-02</td>\n      <td>4.062369e-02</td>\n      <td>1.336082e-15</td>\n      <td>1.713422e-03</td>\n      <td>5.992809e-04</td>\n      <td>1.456232e-35</td>\n      <td>1.790482e-02</td>\n    </tr>\n    <tr>\n      <th>3</th>\n      <td>8.137591e-25</td>\n      <td>1.289720e-02</td>\n      <td>8.594850e-17</td>\n      <td>6.366068e-03</td>\n      <td>2.975973e-08</td>\n      <td>1.353727e-06</td>\n      <td>2.199203e-20</td>\n    </tr>\n    <tr>\n      <th>4</th>\n      <td>2.061579e-38</td>\n      <td>5.221856e-03</td>\n      <td>6.484061e-07</td>\n      <td>6.667077e-03</td>\n      <td>1.715766e-06</td>\n      <td>1.586598e-08</td>\n      <td>2.695808e-32</td>\n    </tr>\n    <tr>\n      <th>5</th>\n      <td>2.465381e-11</td>\n      <td>1.348044e-30</td>\n      <td>4.710794e-06</td>\n      <td>3.528499e-26</td>\n      <td>3.364450e-06</td>\n      <td>1.562989e-20</td>\n      <td>3.399443e-12</td>\n    </tr>\n    <tr>\n      <th>6</th>\n      <td>4.571591e-14</td>\n      <td>2.616310e-08</td>\n      <td>1.222984e-05</td>\n      <td>5.671709e-20</td>\n      <td>8.286684e-22</td>\n      <td>6.597445e-20</td>\n      <td>2.810429e-10</td>\n    </tr>\n    <tr>\n      <th>7</th>\n      <td>1.276907e-14</td>\n      <td>4.860263e-07</td>\n      <td>3.860256e-06</td>\n      <td>4.122109e-14</td>\n      <td>5.414211e-03</td>\n      <td>2.510050e-04</td>\n      <td>2.350908e-12</td>\n    </tr>\n    <tr>\n      <th>8</th>\n      <td>4.603227e-19</td>\n      <td>3.264981e-32</td>\n      <td>1.118087e-09</td>\n      <td>3.554939e-95</td>\n      <td>2.657578e-02</td>\n      <td>1.058784e-20</td>\n      <td>3.041447e-43</td>\n    </tr>\n    <tr>\n      <th>9</th>\n      <td>2.947109e-13</td>\n      <td>2.484186e-05</td>\n      <td>6.170368e-08</td>\n      <td>2.627042e-05</td>\n      <td>4.823489e-02</td>\n      <td>7.188249e-20</td>\n      <td>1.344557e-44</td>\n    </tr>\n    <tr>\n      <th>10</th>\n      <td>7.563206e-40</td>\n      <td>7.146243e-12</td>\n      <td>1.046789e-07</td>\n      <td>3.119633e-23</td>\n      <td>1.182306e-02</td>\n      <td>5.093893e-08</td>\n      <td>1.102490e-20</td>\n    </tr>\n    <tr>\n      <th>11</th>\n      <td>1.181422e-10</td>\n      <td>7.427544e-16</td>\n      <td>1.301041e-06</td>\n      <td>3.058790e-15</td>\n      <td>1.960517e-02</td>\n      <td>4.048464e-31</td>\n      <td>6.582356e-08</td>\n    </tr>\n    <tr>\n      <th>12</th>\n      <td>1.523222e-18</td>\n      <td>3.645605e-05</td>\n      <td>1.506813e-08</td>\n      <td>8.843620e-24</td>\n      <td>3.769926e-03</td>\n      <td>3.552480e-11</td>\n      <td>3.478334e-17</td>\n    </tr>\n    <tr>\n      <th>13</th>\n      <td>1.596783e-13</td>\n      <td>1.824251e-02</td>\n      <td>2.480930e-20</td>\n      <td>6.894000e-14</td>\n      <td>1.410241e-32</td>\n      <td>1.413556e-18</td>\n      <td>1.307487e-61</td>\n    </tr>\n    <tr>\n      <th>14</th>\n      <td>8.951099e-31</td>\n      <td>1.691342e-06</td>\n      <td>3.036740e-20</td>\n      <td>1.089683e-27</td>\n      <td>4.182669e-21</td>\n      <td>4.416781e-09</td>\n      <td>5.236957e-03</td>\n    </tr>\n    <tr>\n      <th>15</th>\n      <td>5.533180e-16</td>\n      <td>1.555426e-03</td>\n      <td>8.623469e-10</td>\n      <td>3.462288e-11</td>\n      <td>6.500911e-16</td>\n      <td>1.363495e-39</td>\n      <td>4.423478e-43</td>\n    </tr>\n    <tr>\n      <th>16</th>\n      <td>1.983152e-08</td>\n      <td>8.076464e-28</td>\n      <td>2.710595e-16</td>\n      <td>2.565032e-22</td>\n      <td>5.961414e-48</td>\n      <td>4.904930e-04</td>\n      <td>2.561179e-10</td>\n    </tr>\n    <tr>\n      <th>17</th>\n      <td>8.255118e-05</td>\n      <td>1.181327e-04</td>\n      <td>4.880701e-19</td>\n      <td>5.256062e-20</td>\n      <td>1.006805e-16</td>\n      <td>5.369035e-03</td>\n      <td>3.916382e-03</td>\n    </tr>\n    <tr>\n      <th>18</th>\n      <td>8.435531e-57</td>\n      <td>1.576893e-02</td>\n      <td>1.462862e-08</td>\n      <td>1.102186e-03</td>\n      <td>1.642621e-06</td>\n      <td>1.515288e-20</td>\n      <td>1.067066e-37</td>\n    </tr>\n    <tr>\n      <th>19</th>\n      <td>1.118401e-30</td>\n      <td>1.483880e-36</td>\n      <td>5.584333e-06</td>\n      <td>4.713691e-07</td>\n      <td>6.984658e-12</td>\n      <td>4.117859e-12</td>\n      <td>3.988838e-14</td>\n    </tr>\n  </tbody>\n</table>\n</div>"
     },
     "execution_count": 29,
     "metadata": {},
     "output_type": "execute_result"
    }
   ],
   "source": [
    "df[df.columns[120:]]"
   ],
   "metadata": {
    "collapsed": false,
    "pycharm": {
     "name": "#%%\n"
    }
   }
  },
  {
   "cell_type": "code",
   "execution_count": 10,
   "outputs": [
    {
     "data": {
      "text/plain": "<AxesSubplot:>"
     },
     "execution_count": 10,
     "metadata": {},
     "output_type": "execute_result"
    },
    {
     "data": {
      "text/plain": "<Figure size 432x288 with 1 Axes>",
      "image/png": "[encoded data removed]"
     },
     "metadata": {
      "needs_background": "light"
     },
     "output_type": "display_data"
    }
   ],
   "source": [
    "df.trans_mat_row_1_col_1.hist()"
   ],
   "metadata": {
    "collapsed": false,
    "pycharm": {
     "name": "#%%\n"
    }
   }
  },
  {
   "cell_type": "code",
   "execution_count": 11,
   "outputs": [
    {
     "data": {
      "text/plain": "<AxesSubplot:>"
     },
     "execution_count": 11,
     "metadata": {},
     "output_type": "execute_result"
    },
    {
     "data": {
      "text/plain": "<Figure size 432x288 with 1 Axes>",
      "image/png": "[encoded data removed]"
     },
     "metadata": {
      "needs_background": "light"
     },
     "output_type": "display_data"
    }
   ],
   "source": [
    "df.trans_mat_row_2_col_2.hist()"
   ],
   "metadata": {
    "collapsed": false,
    "pycharm": {
     "name": "#%%\n"
    }
   }
  },
  {
   "cell_type": "code",
   "execution_count": null,
   "outputs": [],
   "source": [],
   "metadata": {
    "collapsed": false,
    "pycharm": {
     "name": "#%%\n"
    }
   }
  }
 ],
 "metadata": {
  "kernelspec": {
   "display_name": "Python 3",
   "language": "python",
   "name": "python3"
  },
  "language_info": {
   "codemirror_mode": {
    "name": "ipython",
    "version": 2
   },
   "file_extension": ".py",
   "mimetype": "text/x-python",
   "name": "python",
   "nbconvert_exporter": "python",
   "pygments_lexer": "ipython2",
   "version": "2.7.6"
  }
 },
 "nbformat": 4,
 "nbformat_minor": 0
}