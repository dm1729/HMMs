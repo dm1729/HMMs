{
 "cells": [
  {
   "attachments": {},
   "cell_type": "markdown",
   "id": "73e72b72-e492-419f-87d0-02e6b4b5cbeb",
   "metadata": {},
   "source": [
    "# Notebook for checking JAX implementation of SIS Algo"
   ]
  },
  {
   "cell_type": "code",
   "execution_count": 11,
   "id": "f8d5ddb5-1fee-462f-bea7-a2fc7a3fd85c",
   "metadata": {},
   "outputs": [],
   "source": [
    "import jax\n",
    "import jax.numpy as jnp\n",
    "from jax import lax\n",
    "import jax.random as random\n",
    "import numpy as np\n",
    "from jax import jit\n",
    "from jax import vmap\n",
    "from functools import partial\n",
    "import jax.numpy as jnp\n",
    "import jax.random as random\n",
    "import jax\n",
    "from functools import partial\n",
    "from jax import vmap, lax, random, jit\n",
    "import jax.numpy as jnp"
   ]
  },
  {
   "attachments": {},
   "cell_type": "markdown",
   "id": "436f843e",
   "metadata": {},
   "source": [
    "## Checks for SIS Algo implementation"
   ]
  },
  {
   "cell_type": "code",
   "execution_count": 12,
   "id": "41549da1",
   "metadata": {},
   "outputs": [],
   "source": [
    "num_states = 3\n",
    "num_emissions = 4\n",
    "seq_length = 51\n",
    "seed = 1\n",
    "\n",
    "# Generate random HMM parameters\n",
    "key = random.PRNGKey(seed)\n",
    "trans_mat = random.dirichlet(key, jnp.ones(num_states), shape=(num_states,))\n",
    "emission_mat = random.dirichlet(key, jnp.ones(num_emissions), shape=(num_states,))\n",
    "\n",
    "# Generate synthetic observation data\n",
    "key, subkey = random.split(key)\n",
    "init_probs = jnp.array([1/num_states for _ in range(num_states)])\n",
    "\n",
    "# Initialize true_hidden_states with the first state using the init_probs\n",
    "key, subkey = random.split(key)\n",
    "first_state = random.choice(subkey, num_states, p=init_probs)\n",
    "true_hidden_states = [first_state]\n",
    "\n",
    "# Generate the rest of the true hidden states using the transition matrix\n",
    "for _ in range(seq_length - 1):\n",
    "    key, subkey = random.split(key)\n",
    "    current_state = random.choice(subkey, num_states, p=trans_mat[true_hidden_states[-1]])\n",
    "    true_hidden_states.append(current_state)\n",
    "\n",
    "true_hidden_states = jnp.array(true_hidden_states)\n",
    "\n",
    "key, *subkeys = random.split(key, 1+seq_length)\n",
    "obs_data = jnp.array([random.choice(k, num_emissions, p=emission_mat[state]) for k, state in zip(subkeys, true_hidden_states)])"
   ]
  },
  {
   "cell_type": "code",
   "execution_count": 13,
   "id": "71c34b3a",
   "metadata": {},
   "outputs": [
    {
     "name": "stdout",
     "output_type": "stream",
     "text": [
      "Total probability: 1.0000016689\n"
     ]
    }
   ],
   "source": [
    "import itertools\n",
    "import jax.numpy as jnp\n",
    "from jax.scipy.special import expit\n",
    "\n",
    "num_bins = 3\n",
    "bin_weight_prior_par = jnp.array([1.0 for _ in range(num_bins)])\n",
    "\n",
    "# Generate all possible sequences of length 3 with elements in the range [0, num_bins)\n",
    "sequences = list(itertools.product(range(num_bins), repeat=3))\n",
    "\n",
    "log_evidences = []\n",
    "for seq in sequences:\n",
    "    obs = jnp.array(seq)\n",
    "    log_evidence = baseline_log_evidence_hmm(obs, num_bins, bin_weight_prior_par)\n",
    "    log_evidences.append(log_evidence)\n",
    "\n",
    "# Convert log_evidences to probabilities\n",
    "evidences = jax.scipy.special.logsumexp(jnp.array(log_evidences))\n",
    "total_probability = jnp.exp(evidences)\n",
    "\n",
    "print(f\"Total probability: {total_probability:.10f}\")\n"
   ]
  },
  {
   "cell_type": "code",
   "execution_count": 38,
   "id": "02a8b562",
   "metadata": {},
   "outputs": [
    {
     "name": "stdout",
     "output_type": "stream",
     "text": [
      "hello, doing a sis iter!\n",
      "On iter 1\n"
     ]
    },
    {
     "ename": "TypeError",
     "evalue": "reshape total size must be unchanged, got new_sizes (1,) for shape (1, 0, 0).",
     "output_type": "error",
     "traceback": [
      "\u001b[0;31m---------------------------------------------------------------------------\u001b[0m",
      "\u001b[0;31mTypeError\u001b[0m                                 Traceback (most recent call last)",
      "Cell \u001b[0;32mIn[38], line 1\u001b[0m\n\u001b[0;32m----> 1\u001b[0m sis_out \u001b[39m=\u001b[39m sis_estimator_hmm(obs\u001b[39m=\u001b[39;49mobs_data,\n\u001b[1;32m      2\u001b[0m                         num_bins\u001b[39m=\u001b[39;49m\u001b[39m4\u001b[39;49m,\n\u001b[1;32m      3\u001b[0m                         iters\u001b[39m=\u001b[39;49m\u001b[39m3\u001b[39;49m,\n\u001b[1;32m      4\u001b[0m                         num_hidden_states\u001b[39m=\u001b[39;49m\u001b[39m3\u001b[39;49m,\n\u001b[1;32m      5\u001b[0m                         single_bin_weight_prior\u001b[39m=\u001b[39;49m\u001b[39m1.\u001b[39;49m,\n\u001b[1;32m      6\u001b[0m                         single_latent_weight_prior\u001b[39m=\u001b[39;49m\u001b[39m1.\u001b[39;49m,\n\u001b[1;32m      7\u001b[0m                         seed\u001b[39m=\u001b[39;49m\u001b[39m0\u001b[39;49m)\n",
      "Cell \u001b[0;32mIn[37], line 49\u001b[0m, in \u001b[0;36msis_estimator_hmm\u001b[0;34m(obs, num_bins, iters, num_hidden_states, single_bin_weight_prior, single_latent_weight_prior, seed)\u001b[0m\n\u001b[1;32m     47\u001b[0m keys \u001b[39m=\u001b[39m random\u001b[39m.\u001b[39msplit(key, iters)\n\u001b[1;32m     48\u001b[0m \u001b[39m#log_evidence_weights = vmap(single_sis_iter)(keys)\u001b[39;00m\n\u001b[0;32m---> 49\u001b[0m log_evidence_weights \u001b[39m=\u001b[39m jnp\u001b[39m.\u001b[39marray([single_sis_iter(key) \u001b[39mfor\u001b[39;49;00m key \u001b[39min\u001b[39;49;00m keys])\n\u001b[1;32m     50\u001b[0m \u001b[39mreturn\u001b[39;00m {\u001b[39m'\u001b[39m\u001b[39mevidence\u001b[39m\u001b[39m'\u001b[39m: log_evidence_weights }\n",
      "Cell \u001b[0;32mIn[37], line 49\u001b[0m, in \u001b[0;36m<listcomp>\u001b[0;34m(.0)\u001b[0m\n\u001b[1;32m     47\u001b[0m keys \u001b[39m=\u001b[39m random\u001b[39m.\u001b[39msplit(key, iters)\n\u001b[1;32m     48\u001b[0m \u001b[39m#log_evidence_weights = vmap(single_sis_iter)(keys)\u001b[39;00m\n\u001b[0;32m---> 49\u001b[0m log_evidence_weights \u001b[39m=\u001b[39m jnp\u001b[39m.\u001b[39marray([single_sis_iter(key) \u001b[39mfor\u001b[39;00m key \u001b[39min\u001b[39;00m keys])\n\u001b[1;32m     50\u001b[0m \u001b[39mreturn\u001b[39;00m {\u001b[39m'\u001b[39m\u001b[39mevidence\u001b[39m\u001b[39m'\u001b[39m: log_evidence_weights }\n",
      "Cell \u001b[0;32mIn[37], line 42\u001b[0m, in \u001b[0;36msis_estimator_hmm.<locals>.single_sis_iter\u001b[0;34m(key)\u001b[0m\n\u001b[1;32m     40\u001b[0m \u001b[39mfor\u001b[39;00m i \u001b[39min\u001b[39;00m \u001b[39mrange\u001b[39m(\u001b[39m1\u001b[39m, num_obs):\n\u001b[1;32m     41\u001b[0m     \u001b[39mprint\u001b[39m(\u001b[39mf\u001b[39m\u001b[39m\"\u001b[39m\u001b[39mOn iter \u001b[39m\u001b[39m{\u001b[39;00mi\u001b[39m}\u001b[39;00m\u001b[39m\"\u001b[39m)\n\u001b[0;32m---> 42\u001b[0m     val \u001b[39m=\u001b[39m loop_body(i, val)\n\u001b[1;32m     43\u001b[0m \u001b[39m*\u001b[39m_, log_evidence_weight \u001b[39m=\u001b[39m val\n\u001b[1;32m     44\u001b[0m \u001b[39mreturn\u001b[39;00m log_evidence_weight\n",
      "Cell \u001b[0;32mIn[37], line 16\u001b[0m, in \u001b[0;36msis_estimator_hmm.<locals>.loop_body\u001b[0;34m(data_idx, prev_val)\u001b[0m\n\u001b[1;32m     11\u001b[0m     \u001b[39mreturn\u001b[39;00m log_gamma_coefficient_hmm_batched(data_idx, state, obs, latents[:data_idx],\n\u001b[1;32m     12\u001b[0m                                         num_bins, num_hidden_states, bin_weight_prior_par,\n\u001b[1;32m     13\u001b[0m                                         latent_prior_par)\n\u001b[1;32m     15\u001b[0m \u001b[39m# Use vmap to compute log_gamma for all states in parallel\u001b[39;00m\n\u001b[0;32m---> 16\u001b[0m log_gamma \u001b[39m=\u001b[39m vmap(log_gamma_for_state)(jnp\u001b[39m.\u001b[39;49marange(num_hidden_states))\n\u001b[1;32m     17\u001b[0m \u001b[39m#log_gamma = jnp.array([log_gamma_for_state(state) for state in range(num_hidden_states)])\u001b[39;00m\n\u001b[1;32m     19\u001b[0m key, subkey \u001b[39m=\u001b[39m random\u001b[39m.\u001b[39msplit(key)\n",
      "    \u001b[0;31m[... skipping hidden 3 frame]\u001b[0m\n",
      "Cell \u001b[0;32mIn[37], line 11\u001b[0m, in \u001b[0;36msis_estimator_hmm.<locals>.loop_body.<locals>.log_gamma_for_state\u001b[0;34m(state)\u001b[0m\n\u001b[1;32m     10\u001b[0m \u001b[39mdef\u001b[39;00m \u001b[39mlog_gamma_for_state\u001b[39m(state):\n\u001b[0;32m---> 11\u001b[0m     \u001b[39mreturn\u001b[39;00m log_gamma_coefficient_hmm_batched(data_idx, state, obs, latents[:data_idx],\n\u001b[1;32m     12\u001b[0m                                         num_bins, num_hidden_states, bin_weight_prior_par,\n\u001b[1;32m     13\u001b[0m                                         latent_prior_par)\n",
      "Cell \u001b[0;32mIn[37], line 80\u001b[0m, in \u001b[0;36mlog_gamma_coefficient_hmm_batched\u001b[0;34m(idx, state, obs, latents, num_bins, num_states, bin_weight_prior_par, latent_prior_par)\u001b[0m\n\u001b[1;32m     77\u001b[0m prev_state_obs \u001b[39m=\u001b[39m jnp\u001b[39m.\u001b[39mwhere(state_filter[\u001b[39m.\u001b[39m\u001b[39m.\u001b[39m\u001b[39m.\u001b[39m, \u001b[39mNone\u001b[39;00m], obs_up_to_idx, \u001b[39m0\u001b[39m)\n\u001b[1;32m     78\u001b[0m prev_state_obs_lengths \u001b[39m=\u001b[39m jnp\u001b[39m.\u001b[39msum(state_filter, axis\u001b[39m=\u001b[39m\u001b[39m-\u001b[39m\u001b[39m1\u001b[39m)\n\u001b[0;32m---> 80\u001b[0m new_state_obs \u001b[39m=\u001b[39m jnp\u001b[39m.\u001b[39mconcatenate([prev_state_obs[\u001b[39mNone\u001b[39;49;00m]\u001b[39m.\u001b[39;49mreshape( prev_state_obs[\u001b[39mNone\u001b[39;49;00m]\u001b[39m.\u001b[39;49mshape[\u001b[39m0\u001b[39;49m],), obs[idx] \u001b[39m*\u001b[39m jnp\u001b[39m.\u001b[39mones((num_states, \u001b[39m1\u001b[39m))], axis\u001b[39m=\u001b[39m\u001b[39m-\u001b[39m\u001b[39m1\u001b[39m)\n\u001b[1;32m     81\u001b[0m new_state_obs_lengths \u001b[39m=\u001b[39m prev_state_obs_lengths \u001b[39m+\u001b[39m \u001b[39m1\u001b[39m\n\u001b[1;32m     83\u001b[0m log_evidence_new \u001b[39m=\u001b[39m baseline_log_evidence_hmm_batched(new_state_obs, new_state_obs_lengths, num_bins, bin_weight_prior_par)\n",
      "File \u001b[0;32m~/miniconda3/envs/jax-env/lib/python3.11/site-packages/jax/_src/numpy/lax_numpy.py:795\u001b[0m, in \u001b[0;36m_reshape\u001b[0;34m(a, order, *args)\u001b[0m\n\u001b[1;32m    793\u001b[0m newshape \u001b[39m=\u001b[39m _compute_newshape(a, args[\u001b[39m0\u001b[39m] \u001b[39mif\u001b[39;00m \u001b[39mlen\u001b[39m(args) \u001b[39m==\u001b[39m \u001b[39m1\u001b[39m \u001b[39melse\u001b[39;00m args)\n\u001b[1;32m    794\u001b[0m \u001b[39mif\u001b[39;00m order \u001b[39m==\u001b[39m \u001b[39m\"\u001b[39m\u001b[39mC\u001b[39m\u001b[39m\"\u001b[39m:\n\u001b[0;32m--> 795\u001b[0m   \u001b[39mreturn\u001b[39;00m lax\u001b[39m.\u001b[39;49mreshape(a, newshape, \u001b[39mNone\u001b[39;49;00m)\n\u001b[1;32m    796\u001b[0m \u001b[39melif\u001b[39;00m order \u001b[39m==\u001b[39m \u001b[39m\"\u001b[39m\u001b[39mF\u001b[39m\u001b[39m\"\u001b[39m:\n\u001b[1;32m    797\u001b[0m   dims \u001b[39m=\u001b[39m \u001b[39mlist\u001b[39m(\u001b[39mrange\u001b[39m(ndim(a))[::\u001b[39m-\u001b[39m\u001b[39m1\u001b[39m])\n",
      "    \u001b[0;31m[... skipping hidden 24 frame]\u001b[0m\n",
      "File \u001b[0;32m~/miniconda3/envs/jax-env/lib/python3.11/site-packages/jax/_src/lax/lax.py:3275\u001b[0m, in \u001b[0;36m_reshape_shape_rule\u001b[0;34m(operand, new_sizes, dimensions)\u001b[0m\n\u001b[1;32m   3272\u001b[0m \u001b[39mif\u001b[39;00m (\u001b[39mnot\u001b[39;00m config\u001b[39m.\u001b[39mjax_dynamic_shapes \u001b[39mand\u001b[39;00m\n\u001b[1;32m   3273\u001b[0m     \u001b[39mnot\u001b[39;00m core\u001b[39m.\u001b[39msame_shape_sizes(np\u001b[39m.\u001b[39mshape(operand), new_sizes)):\n\u001b[1;32m   3274\u001b[0m   msg \u001b[39m=\u001b[39m \u001b[39m'\u001b[39m\u001b[39mreshape total size must be unchanged, got new_sizes \u001b[39m\u001b[39m{}\u001b[39;00m\u001b[39m for shape \u001b[39m\u001b[39m{}\u001b[39;00m\u001b[39m.\u001b[39m\u001b[39m'\u001b[39m\n\u001b[0;32m-> 3275\u001b[0m   \u001b[39mraise\u001b[39;00m \u001b[39mTypeError\u001b[39;00m(msg\u001b[39m.\u001b[39mformat(new_sizes, np\u001b[39m.\u001b[39mshape(operand)))\n\u001b[1;32m   3276\u001b[0m \u001b[39mif\u001b[39;00m dimensions \u001b[39mis\u001b[39;00m \u001b[39mnot\u001b[39;00m \u001b[39mNone\u001b[39;00m:\n\u001b[1;32m   3277\u001b[0m   \u001b[39mif\u001b[39;00m \u001b[39mset\u001b[39m(dimensions) \u001b[39m!=\u001b[39m \u001b[39mset\u001b[39m(\u001b[39mrange\u001b[39m(np\u001b[39m.\u001b[39mndim(operand))):\n",
      "\u001b[0;31mTypeError\u001b[0m: reshape total size must be unchanged, got new_sizes (1,) for shape (1, 0, 0)."
     ]
    }
   ],
   "source": [
    "sis_out = sis_estimator_hmm(obs=obs_data,\n",
    "                        num_bins=4,\n",
    "                        iters=3,\n",
    "                        num_hidden_states=3,\n",
    "                        single_bin_weight_prior=1.,\n",
    "                        single_latent_weight_prior=1.,\n",
    "                        seed=0)"
   ]
  },
  {
   "cell_type": "code",
   "execution_count": 7,
   "id": "7e9fe8b2",
   "metadata": {},
   "outputs": [],
   "source": [
    "obs = obs_data\n",
    "num_bins = 4\n",
    "iters = 2\n",
    "num_hidden_states = 3\n",
    "single_bin_weight_prior = 1.\n",
    "single_latent_weight_prior = 1.\n",
    "seed = 0"
   ]
  },
  {
   "cell_type": "code",
   "execution_count": 10,
   "id": "dac493dc",
   "metadata": {},
   "outputs": [],
   "source": [
    "bin_weight_prior_par = jnp.repeat(single_bin_weight_prior,num_bins)\n",
    "latent_prior_par = jnp.repeat(single_latent_weight_prior,num_hidden_states)\n",
    "num_obs = obs.shape[0]"
   ]
  },
  {
   "cell_type": "code",
   "execution_count": 13,
   "id": "03ef795a",
   "metadata": {},
   "outputs": [],
   "source": [
    "key = random.PRNGKey(seed)"
   ]
  },
  {
   "cell_type": "code",
   "execution_count": 16,
   "id": "da6b7fe3",
   "metadata": {},
   "outputs": [],
   "source": [
    "latents = jnp.zeros(num_obs, dtype=jnp.float32)\n",
    "latents = latents.at[0].set(random.categorical(key, logits=jnp.log(latent_prior_par)))\n",
    "init_log_evidence_weight = baseline_log_evidence_hmm(obs[0:1], num_bins, bin_weight_prior_par)"
   ]
  },
  {
   "cell_type": "code",
   "execution_count": 24,
   "id": "f27da0fe",
   "metadata": {},
   "outputs": [],
   "source": [
    "*_, log_evidence_weight = val"
   ]
  },
  {
   "cell_type": "code",
   "execution_count": 31,
   "id": "9cbb32f0",
   "metadata": {},
   "outputs": [
    {
     "name": "stdout",
     "output_type": "stream",
     "text": [
      "4.17 s ± 31.1 ms per loop (mean ± std. dev. of 7 runs, 1 loop each)\n"
     ]
    }
   ],
   "source": [
    "%%timeit\n",
    "val = (key, latents, init_log_evidence_weight)\n",
    "for i in range(1, num_obs):\n",
    "    val = loop_body(i, val)"
   ]
  },
  {
   "cell_type": "code",
   "execution_count": 30,
   "id": "40df1d5d",
   "metadata": {},
   "outputs": [
    {
     "data": {
      "text/plain": [
       "(1, 2)"
      ]
     },
     "execution_count": 30,
     "metadata": {},
     "output_type": "execute_result"
    }
   ],
   "source": []
  },
  {
   "cell_type": "code",
   "execution_count": 26,
   "id": "2076edd9",
   "metadata": {},
   "outputs": [
    {
     "ename": "TypeError",
     "evalue": "len() of unsized object",
     "output_type": "error",
     "traceback": [
      "\u001b[0;31m---------------------------------------------------------------------------\u001b[0m",
      "\u001b[0;31mIndexError\u001b[0m                                Traceback (most recent call last)",
      "File \u001b[0;32m~/miniconda3/envs/jax-env/lib/python3.11/site-packages/jax/_src/array.py:227\u001b[0m, in \u001b[0;36mArrayImpl.__len__\u001b[0;34m(self)\u001b[0m\n\u001b[1;32m    226\u001b[0m \u001b[39mtry\u001b[39;00m:\n\u001b[0;32m--> 227\u001b[0m   \u001b[39mreturn\u001b[39;00m \u001b[39mself\u001b[39;49m\u001b[39m.\u001b[39;49mshape[\u001b[39m0\u001b[39;49m]\n\u001b[1;32m    228\u001b[0m \u001b[39mexcept\u001b[39;00m \u001b[39mIndexError\u001b[39;00m \u001b[39mas\u001b[39;00m err:\n",
      "\u001b[0;31mIndexError\u001b[0m: tuple index out of range",
      "\nThe above exception was the direct cause of the following exception:\n",
      "\u001b[0;31mTypeError\u001b[0m                                 Traceback (most recent call last)",
      "Cell \u001b[0;32mIn[26], line 1\u001b[0m\n\u001b[0;32m----> 1\u001b[0m obs_data[\u001b[39m0\u001b[39m]\u001b[39m.\u001b[39mreshape(\u001b[39mlen\u001b[39;49m(obs_data[\u001b[39m0\u001b[39;49m]))\n",
      "File \u001b[0;32m~/miniconda3/envs/jax-env/lib/python3.11/site-packages/jax/_src/array.py:229\u001b[0m, in \u001b[0;36mArrayImpl.__len__\u001b[0;34m(self)\u001b[0m\n\u001b[1;32m    227\u001b[0m   \u001b[39mreturn\u001b[39;00m \u001b[39mself\u001b[39m\u001b[39m.\u001b[39mshape[\u001b[39m0\u001b[39m]\n\u001b[1;32m    228\u001b[0m \u001b[39mexcept\u001b[39;00m \u001b[39mIndexError\u001b[39;00m \u001b[39mas\u001b[39;00m err:\n\u001b[0;32m--> 229\u001b[0m   \u001b[39mraise\u001b[39;00m \u001b[39mTypeError\u001b[39;00m(\u001b[39m\"\u001b[39m\u001b[39mlen() of unsized object\u001b[39m\u001b[39m\"\u001b[39m) \u001b[39mfrom\u001b[39;00m \u001b[39merr\u001b[39;00m\n",
      "\u001b[0;31mTypeError\u001b[0m: len() of unsized object"
     ]
    }
   ],
   "source": [
    "obs_data[0].reshape(len(obs_data[0]))"
   ]
  },
  {
   "cell_type": "code",
   "execution_count": 39,
   "id": "8231d369",
   "metadata": {},
   "outputs": [],
   "source": [
    "def sis_estimator_hmm(obs,\n",
    "                      num_bins,\n",
    "                      iters,\n",
    "                      num_hidden_states,\n",
    "                      single_bin_weight_prior=1.,\n",
    "                      single_latent_weight_prior=1.,\n",
    "                      seed=0):\n",
    "    def loop_body(data_idx, prev_val): # iterate over data_idx\n",
    "        key, latents, log_evidence_weights = prev_val\n",
    "        def log_gamma_for_state(state):\n",
    "            return log_gamma_coefficient_hmm_batched(data_idx, state, obs, latents[:data_idx],\n",
    "                                                num_bins, num_hidden_states, bin_weight_prior_par,\n",
    "                                                latent_prior_par)\n",
    "\n",
    "        # Use vmap to compute log_gamma for all states in parallel\n",
    "        log_gamma = vmap(log_gamma_for_state)(jnp.arange(num_hidden_states))\n",
    "        #log_gamma = jnp.array([log_gamma_for_state(state) for state in range(num_hidden_states)])\n",
    "        \n",
    "        key, subkey = random.split(key)\n",
    "        new_latent = random.categorical(key=subkey, logits=log_gamma)\n",
    "        new_latents = latents.at[data_idx].set(new_latent)\n",
    "        new_log_evidence_weights = log_evidence_weights + jax.scipy.special.logsumexp(log_gamma)\n",
    "        return (key, new_latents, new_log_evidence_weights) # val for next iter\n",
    "\n",
    "    bin_weight_prior_par = jnp.repeat(single_bin_weight_prior,num_bins)\n",
    "    latent_prior_par = jnp.repeat(single_latent_weight_prior,num_hidden_states)\n",
    "    num_obs = obs.shape[0]\n",
    "\n",
    "    def single_sis_iter(key): # Single iteration over which to vmap\n",
    "        print(\"hello, doing a sis iter!\")\n",
    "        latents = jnp.zeros(num_obs, dtype=jnp.float32)\n",
    "        latents = latents.at[0].set(random.categorical(key, logits=jnp.log(latent_prior_par)))\n",
    "\n",
    "        # obs[0:1] is the first observation, as a 1x1 array\n",
    "        init_log_evidence_weight = baseline_log_evidence_hmm(obs[0:1], num_bins, bin_weight_prior_par)\n",
    "\n",
    "        # init_val = (key, latents, init_log_evidence_weight)\n",
    "        # *_, log_evidence_weight = lax.fori_loop(lower=1, upper=num_obs, body_fun=loop_body, init_val=init_val)\n",
    "        val = (key, latents, init_log_evidence_weight)\n",
    "        for i in range(1, num_obs):\n",
    "            print(f\"On iter {i}\")\n",
    "            val = loop_body(i, val)\n",
    "        *_, log_evidence_weight = val\n",
    "        return log_evidence_weight\n",
    "\n",
    "    key = random.PRNGKey(seed)\n",
    "    keys = random.split(key, iters)\n",
    "    #log_evidence_weights = vmap(single_sis_iter)(keys)\n",
    "    log_evidence_weights = jnp.array([single_sis_iter(key) for key in keys])\n",
    "    return {'evidence': log_evidence_weights }\n",
    "\n",
    "\n",
    "\n",
    "def log_gamma_coefficient_hmm(idx, state, obs, latents, num_bins, num_states, bin_weight_prior_par, latent_prior_par):\n",
    "    state_filter = lax.dynamic_slice(latents, (0,), (idx - 1,)) == state\n",
    "    obs_up_to_idx = lax.dynamic_slice(obs, (0,), (idx - 1,))\n",
    "    \n",
    "    # Get the indices where state_filter is True\n",
    "    # indices = jnp.nonzero()[0]\n",
    "    prev_state_obs = obs_up_to_idx[state_filter] # Prev. obs associated to given state\n",
    "    \n",
    "    new_state_obs = jnp.concatenate([prev_state_obs, jnp.array([obs[idx]])]) # Include new obs in state to calc prob.\n",
    "\n",
    "    log_evidence_new = baseline_log_evidence_hmm(new_state_obs, num_bins, bin_weight_prior_par)\n",
    "    log_evidence_prev = baseline_log_evidence_hmm(prev_state_obs, num_bins, bin_weight_prior_par)\n",
    "    log_posterior_latent_weight = jnp.log(\n",
    "        post_latent_weight_hmm(state, latents[:idx-1], num_states, latent_prior_par, start_state=latents[idx-1])\n",
    "        )\n",
    "    log_evidence_ratio = log_evidence_new - log_evidence_prev # Ratio of m(C_k)) quantities in Hairault et al.\n",
    "\n",
    "    return log_evidence_ratio + log_posterior_latent_weight # log gamma_k in Hairault et al.\n",
    "\n",
    "\n",
    "def baseline_log_evidence_hmm(obs, num_bins, bin_weight_prior_par):\n",
    "    \"\"\"\n",
    "    Calculate the \"baseline log evidence\" for an HMM.\n",
    "    For given observations, calculates the joint likelihood of these given a shared latent state.\n",
    "    Amounts to taking the log ratio of posterior and prior normalising constants.\n",
    "\n",
    "    Args:\n",
    "        obs (jnp.ndarray): Observations.\n",
    "        num_bins (int): Number of bins.\n",
    "        bin_weight_prior_par (float): Bin weight prior parameter.\n",
    "\n",
    "    Returns:\n",
    "        float: Log evidence.\n",
    "    \"\"\"\n",
    "    if obs.shape[0] == 0:\n",
    "        return 0\n",
    "    \n",
    "    bin_counts = jnp.bincount(obs, length=num_bins)\n",
    "    bin_weight_posterior_par = bin_weight_prior_par + bin_counts\n",
    "    # log_evidence = (jnp.sum(lax.lgamma(bin_weight_posterior_par)) - lax.lgamma(jnp.sum(bin_weight_posterior_par))\n",
    "    #                 + lax.lgamma(jnp.sum(bin_weight_prior_par)) - jnp.sum(lax.lgamma(bin_weight_prior_par))\n",
    "    #                 )\n",
    "    log_prior_normalization = lax.lgamma(jnp.sum(bin_weight_prior_par)) - jnp.sum(lax.lgamma(bin_weight_prior_par))\n",
    "    log_posterior_normalization = (lax.lgamma(jnp.sum(bin_weight_posterior_par)) - jnp.sum(lax.lgamma(bin_weight_posterior_par)))\n",
    "\n",
    "    log_evidence = log_prior_normalization - log_posterior_normalization\n",
    "    return log_evidence\n",
    "\n",
    "def post_latent_weight_hmm(state, latents, num_states, latent_prior_par, start_state):\n",
    "    \"\"\"\n",
    "    Calculate the posterior latent weight for an HMM.\n",
    "\n",
    "    Args:\n",
    "        state (int): State index.\n",
    "        latents (jnp.ndarray): Latent states.\n",
    "        num_states (int): Number of states.\n",
    "        latent_prior_par (float): Latent prior parameter.\n",
    "        start_state (int): Start state index.\n",
    "\n",
    "    Returns:\n",
    "        float: Posterior latent weight.\n",
    "    \"\"\" \n",
    "    transition_counts_from_start_state = transition_count(latent_states=latents, num_states=num_states)[jnp.int32(start_state),]\n",
    "    latent_post_par = latent_prior_par + transition_counts_from_start_state\n",
    "    return latent_post_par[state] / jnp.sum(latent_post_par)\n",
    "\n",
    "def transition_count(latent_states, num_states):\n",
    "    transition_count_mat = jnp.array([\n",
    "    jnp.bincount(jnp.int32( latent_states[:-1] * num_states + latent_states[1:] ),\n",
    "                 length=num_states * num_states)]).reshape(num_states, num_states)\n",
    "    return transition_count_mat\n"
   ]
  },
  {
   "cell_type": "code",
   "execution_count": null,
   "id": "416b81b8",
   "metadata": {},
   "outputs": [],
   "source": []
  },
  {
   "cell_type": "code",
   "execution_count": 116,
   "id": "97386816",
   "metadata": {},
   "outputs": [
    {
     "data": {
      "text/plain": [
       "Array([1, 1], dtype=int32)"
      ]
     },
     "execution_count": 116,
     "metadata": {},
     "output_type": "execute_result"
    }
   ],
   "source": [
    "jnp.int32(jnp.array([1.,1.]))"
   ]
  },
  {
   "cell_type": "code",
   "execution_count": null,
   "id": "602a8757",
   "metadata": {},
   "outputs": [],
   "source": []
  },
  {
   "cell_type": "code",
   "execution_count": null,
   "id": "b2ea6f7c",
   "metadata": {},
   "outputs": [],
   "source": []
  },
  {
   "attachments": {},
   "cell_type": "markdown",
   "id": "95653198",
   "metadata": {},
   "source": [
    "## Checks for forward/backward implementation"
   ]
  },
  {
   "cell_type": "code",
   "execution_count": 18,
   "id": "27d91ee4",
   "metadata": {},
   "outputs": [],
   "source": [
    "num_states = 3\n",
    "num_emissions = 4\n",
    "seq_length = 50\n",
    "seed = 0\n",
    "\n",
    "# Generate random HMM parameters\n",
    "key = random.PRNGKey(seed)\n",
    "trans_mat = random.dirichlet(key, jnp.ones(num_states), shape=(num_states,))\n",
    "emission_mat = random.dirichlet(key, jnp.ones(num_emissions), shape=(num_states,))"
   ]
  },
  {
   "cell_type": "code",
   "execution_count": 19,
   "id": "c3b7c676",
   "metadata": {},
   "outputs": [
    {
     "data": {
      "text/plain": [
       "Array([0, 0, 1, 1, 1, 0, 2, 0, 0, 0, 2, 1, 0, 0, 1, 0, 1, 1, 0, 1, 1, 1,\n",
       "       2, 1, 2, 1, 2, 1, 0, 2, 0, 1, 0, 1, 2, 1, 0, 0, 0, 1, 1, 0, 0, 0,\n",
       "       2, 0, 1, 2, 0, 0], dtype=int32)"
      ]
     },
     "execution_count": 19,
     "metadata": {},
     "output_type": "execute_result"
    }
   ],
   "source": [
    "true_hidden_states"
   ]
  },
  {
   "cell_type": "code",
   "execution_count": 20,
   "id": "12ab6758",
   "metadata": {},
   "outputs": [],
   "source": [
    "# Generate synthetic observation data\n",
    "key, subkey = random.split(key)\n",
    "init_probs = jnp.array([0.5, 0.3, 0.2])\n",
    "true_hidden_states = random.choice(subkey, num_states, shape=(seq_length,), p=init_probs)\n",
    "key, subkey = random.split(key)\n",
    "obs_data = jnp.array([random.choice(subkey, num_emissions, p=emission_mat[state]) for state in true_hidden_states])"
   ]
  },
  {
   "cell_type": "code",
   "execution_count": 21,
   "id": "c5aa7fb0",
   "metadata": {},
   "outputs": [
    {
     "data": {
      "text/plain": [
       "Array([[0.23019393, 0.5227494 , 0.04843829, 0.1986184 ],\n",
       "       [0.14872883, 0.0815069 , 0.25957426, 0.51019007],\n",
       "       [0.39489356, 0.32623452, 0.13250461, 0.1463673 ]], dtype=float32)"
      ]
     },
     "execution_count": 21,
     "metadata": {},
     "output_type": "execute_result"
    }
   ],
   "source": [
    "emission_mat"
   ]
  },
  {
   "cell_type": "code",
   "execution_count": 22,
   "id": "f90193d0",
   "metadata": {},
   "outputs": [],
   "source": [
    "# Test forward_backward\n",
    "forward, backward, log_likelihood = forward_backward(obs_data, trans_mat, compute_emission_probs_multinomial, {'emission_mat': emission_mat})"
   ]
  },
  {
   "cell_type": "code",
   "execution_count": 21,
   "id": "80281568",
   "metadata": {},
   "outputs": [],
   "source": [
    "# Test conditional_probability\n",
    "cond_prob = conditional_probability(obs_data=obs_data, trans_mat=trans_mat,\n",
    "emission_func=compute_emission_probs_multinomial,\n",
    "emission_kwargs={'emission_mat': emission_mat},\n",
    "forward=forward, backward=backward)\n"
   ]
  },
  {
   "cell_type": "code",
   "execution_count": 22,
   "id": "0960d785",
   "metadata": {},
   "outputs": [
    {
     "data": {
      "text/plain": [
       "(50, 3)"
      ]
     },
     "execution_count": 22,
     "metadata": {},
     "output_type": "execute_result"
    }
   ],
   "source": [
    "cond_prob.shape"
   ]
  },
  {
   "cell_type": "code",
   "execution_count": 23,
   "id": "bd986de7",
   "metadata": {},
   "outputs": [],
   "source": [
    "# Test joint_conditional_probabilities\n",
    "joint_cond_probs = joint_conditional_probabilities(obs_data, trans_mat, compute_emission_probs_multinomial,\n",
    "    {'emission_mat': emission_mat}, cond_prob_kwargs={'forward': forward, 'backward': backward})\n"
   ]
  },
  {
   "cell_type": "code",
   "execution_count": 28,
   "id": "e3ede75e",
   "metadata": {},
   "outputs": [
    {
     "name": "stdout",
     "output_type": "stream",
     "text": [
      "Log Likelihood: -67.19659\n",
      "Forward Probabilities:\n",
      " [[0.3385512  0.03670331 0.6247455 ]\n",
      " [0.26476085 0.03221375 0.70302546]\n",
      " [0.23468333 0.03522706 0.7300896 ]\n",
      " [0.22729062 0.0364662  0.7362432 ]\n",
      " [0.2259966  0.0367706  0.73723286]\n",
      " [0.22586407 0.0368235  0.73731244]\n",
      " [0.22587393 0.0368288  0.7372973 ]\n",
      " [0.22588317 0.03682836 0.7372885 ]\n",
      " [0.22588599 0.03682797 0.737286  ]\n",
      " [0.22588657 0.03682785 0.73728555]\n",
      " [0.22588664 0.03682784 0.7372855 ]\n",
      " [0.04782274 0.2679736  0.6842037 ]\n",
      " [0.40294024 0.04281935 0.55424047]\n",
      " [0.12822716 0.05395585 0.81781703]\n",
      " [0.08577614 0.06950466 0.8447192 ]\n",
      " [0.04260741 0.29641092 0.6609817 ]\n",
      " [0.42838773 0.04282741 0.52878475]\n",
      " [0.3004478  0.02870283 0.6708494 ]\n",
      " [0.24340199 0.03377682 0.72282124]\n",
      " [0.04877004 0.26450232 0.68672764]\n",
      " [0.18959354 0.08409694 0.7263096 ]\n",
      " [0.05687364 0.28254962 0.6605768 ]\n",
      " [0.0990739  0.3437101  0.55721605]\n",
      " [0.1235863  0.35086668 0.525547  ]\n",
      " [0.49989295 0.03924197 0.46086508]\n",
      " [0.31945863 0.02603305 0.65450835]\n",
      " [0.2471546  0.03301599 0.7198294 ]\n",
      " [0.22933608 0.03595517 0.7347088 ]\n",
      " [0.04793618 0.2672436  0.6848202 ]\n",
      " [0.1910987  0.08429125 0.7246101 ]\n",
      " [0.11295059 0.06735674 0.8196926 ]\n",
      " [0.04469019 0.29177207 0.66353774]\n",
      " [0.20553982 0.08579908 0.7086611 ]\n",
      " [0.27077973 0.03741934 0.691801  ]\n",
      " [0.05254478 0.26051104 0.6869442 ]\n",
      " [0.0919552  0.33959395 0.5684509 ]\n",
      " [0.4815944  0.04054642 0.47785923]\n",
      " [0.31502828 0.02670791 0.6582638 ]\n",
      " [0.24633792 0.0331926  0.7204695 ]\n",
      " [0.04890994 0.2639052  0.6871848 ]\n",
      " [0.39936003 0.04280398 0.55783594]\n",
      " [0.12758525 0.05415322 0.8182615 ]\n",
      " [0.08576663 0.06954828 0.844685  ]\n",
      " [0.04261776 0.29642045 0.6609618 ]\n",
      " [0.42839965 0.04282691 0.52877337]\n",
      " [0.13274093 0.05254718 0.81471187]\n",
      " [0.20938645 0.04073673 0.7498768 ]\n",
      " [0.22422211 0.03750421 0.7382737 ]\n",
      " [0.04783614 0.268371   0.68379295]\n",
      " [0.4033249  0.04281588 0.5538592 ]]\n",
      "Backward Probabilities:\n",
      " [[0.32543826 0.43944964 0.23511209]\n",
      " [0.32543808 0.43945    0.23511188]\n",
      " [0.3254373  0.43945184 0.23511079]\n",
      " [0.32543495 0.43945885 0.23510624]\n",
      " [0.32543373 0.43947187 0.23509446]\n",
      " [0.325478   0.4394175  0.23510458]\n",
      " [0.32586333 0.4386792  0.23545754]\n",
      " [0.32797113 0.4339365  0.23809242]\n",
      " [0.336442   0.4117659  0.25179207]\n",
      " [0.3578655  0.3340904  0.30804422]\n",
      " [0.28909573 0.30702224 0.40388203]\n",
      " [0.3465514  0.38475186 0.2686967 ]\n",
      " [0.38652635 0.22214466 0.3913289 ]\n",
      " [0.3876555  0.19312842 0.41921604]\n",
      " [0.2710091  0.32889983 0.40009117]\n",
      " [0.32711667 0.43597385 0.23690943]\n",
      " [0.33351594 0.42013398 0.24634993]\n",
      " [0.35397696 0.35692316 0.28909978]\n",
      " [0.35347787 0.22168276 0.42483944]\n",
      " [0.39076722 0.20511256 0.40412033]\n",
      " [0.3558536  0.2038535  0.440293  ]\n",
      " [0.33006027 0.22864938 0.4412904 ]\n",
      " [0.2700025  0.3300284  0.39996907]\n",
      " [0.32570377 0.43900895 0.23528728]\n",
      " [0.32721093 0.43574962 0.23703948]\n",
      " [0.33383748 0.41921803 0.24694456]\n",
      " [0.3544123  0.35445067 0.291137  ]\n",
      " [0.34604812 0.23130153 0.42265037]\n",
      " [0.38439745 0.22770596 0.3878966 ]\n",
      " [0.38872504 0.20549951 0.40577543]\n",
      " [0.3344528  0.24409807 0.4214491 ]\n",
      " [0.36569846 0.26704472 0.36725688]\n",
      " [0.35834193 0.3399504  0.30170774]\n",
      " [0.33044454 0.22845505 0.4411004 ]\n",
      " [0.27171364 0.32807523 0.4002111 ]\n",
      " [0.3279719  0.43393466 0.23809351]\n",
      " [0.3364449  0.4117578  0.2517973 ]\n",
      " [0.35787064 0.33406526 0.30806416]\n",
      " [0.289046   0.30707553 0.40387854]\n",
      " [0.34647036 0.38491118 0.26861838]\n",
      " [0.38585445 0.22383553 0.39031008]\n",
      " [0.38768262 0.19746754 0.41484985]\n",
      " [0.2889193  0.30673993 0.40434077]\n",
      " [0.34442678 0.38645235 0.2691209 ]\n",
      " [0.3538866  0.28972748 0.3563859 ]\n",
      " [0.33649787 0.41162023 0.251882  ]\n",
      " [0.3580248  0.33351782 0.30845737]\n",
      " [0.2886055  0.30677065 0.40462387]\n",
      " [0.34272164 0.38819703 0.26908135]\n",
      " [1.         1.         1.        ]]\n",
      "Conditional Probabilities:\n",
      " [[0.403297   0.05904001 0.537663  ]\n",
      " [0.3243986  0.05329759 0.6223038 ]\n",
      " [0.28983912 0.05874828 0.6514126 ]\n",
      " [0.28115308 0.06091242 0.6579344 ]\n",
      " [0.27961853 0.06143745 0.658944  ]\n",
      " [0.2794774  0.0615149  0.6590077 ]\n",
      " [0.27947825 0.06134527 0.6591764 ]\n",
      " [0.27892008 0.06016846 0.6609115 ]\n",
      " [0.2745528  0.0547841  0.67066306]\n",
      " [0.25241262 0.03841857 0.7091688 ]\n",
      " [0.17442647 0.03020134 0.7953722 ]\n",
      " [0.05460284 0.33969247 0.60570467]\n",
      " [0.4075553  0.02489102 0.56755364]\n",
      " [0.1233539  0.02585899 0.85078716]\n",
      " [0.06052558 0.05952045 0.8799539 ]\n",
      " [0.04649618 0.43110606 0.5223977 ]\n",
      " [0.49075133 0.06180412 0.44744456]\n",
      " [0.34247455 0.03299011 0.6245354 ]\n",
      " [0.21476662 0.01869094 0.7665424 ]\n",
      " [0.05432168 0.15464064 0.7910376 ]\n",
      " [0.16683365 0.04239232 0.790774  ]\n",
      " [0.05007361 0.17233336 0.7775931 ]\n",
      " [0.07368116 0.3124446  0.61387426]\n",
      " [0.12660389 0.48447284 0.3889233 ]\n",
      " [0.5642046  0.05898201 0.37681335]\n",
      " [0.3819908  0.03909022 0.578919  ]\n",
      " [0.28360063 0.03788871 0.67851067]\n",
      " [0.19929878 0.02088505 0.7798162 ]\n",
      " [0.05342282 0.17642684 0.7701503 ]\n",
      " [0.19262965 0.04491756 0.76245284]\n",
      " [0.09451792 0.04113735 0.8643447 ]\n",
      " [0.04835989 0.23055665 0.72108346]\n",
      " [0.23261741 0.09211849 0.6752641 ]\n",
      " [0.22192986 0.02120303 0.7568672 ]\n",
      " [0.03810619 0.22811511 0.7337787 ]\n",
      " [0.09639539 0.47100726 0.43259737]\n",
      " [0.5418176  0.055828   0.4023544 ]\n",
      " [0.34747946 0.0274995  0.6250211 ]\n",
      " [0.19121169 0.02737176 0.78141654]\n",
      " [0.05590541 0.335119   0.6089756 ]\n",
      " [0.4040191  0.02512042 0.57086056]\n",
      " [0.1237766  0.02675973 0.8494637 ]\n",
      " [0.06392213 0.05503171 0.8810462 ]\n",
      " [0.04779627 0.37300152 0.5792023 ]\n",
      " [0.43013313 0.03520434 0.53466254]\n",
      " [0.16451477 0.07966433 0.7558209 ]\n",
      " [0.23437206 0.04247656 0.7231514 ]\n",
      " [0.17259221 0.03068542 0.7967224 ]\n",
      " [0.05382806 0.3420573  0.6041146 ]\n",
      " [0.40332496 0.04281588 0.55385923]]\n",
      "Joint Conditional Probabilities:\n",
      " [[[2.02775687e-01 6.03844086e-03 1.94482878e-01]\n",
      "  [5.51118106e-02 3.17313359e-03 7.55064189e-04]\n",
      "  [6.65110797e-02 4.40860167e-02 4.27065849e-01]]\n",
      "\n",
      " [[1.63106129e-01 4.85715643e-03 1.56435311e-01]\n",
      "  [4.97514307e-02 2.86452170e-03 6.81622245e-04]\n",
      "  [7.69815966e-02 5.10265939e-02 4.94295627e-01]]\n",
      "\n",
      " [[1.45730585e-01 4.33982816e-03 1.39768705e-01]\n",
      "  [5.48394062e-02 3.15754302e-03 7.51321088e-04]\n",
      "  [8.05830956e-02 5.34150526e-02 5.17414451e-01]]\n",
      "\n",
      " [[1.41366363e-01 4.21000319e-03 1.35576740e-01]\n",
      "  [5.68595007e-02 3.27396533e-03 7.78961054e-04]\n",
      "  [8.13926607e-02 5.39534837e-02 5.22588313e-01]]\n",
      "\n",
      " [[1.40601620e-01 4.18614130e-03 1.34830788e-01]\n",
      "  [5.73504753e-02 3.30137857e-03 7.85614306e-04]\n",
      "  [8.15253034e-02 5.40273786e-02 5.23391306e-01]]\n",
      "\n",
      " [[1.40515193e-01 4.17159963e-03 1.34790599e-01]\n",
      "  [5.74313477e-02 3.29657597e-03 7.86971592e-04]\n",
      "  [8.15317929e-02 5.38771078e-02 5.23598909e-01]]\n",
      "\n",
      " [[1.40234232e-01 4.09178156e-03 1.35152236e-01]\n",
      "  [5.73222786e-02 3.23382509e-03 7.89162121e-04]\n",
      "  [8.13635513e-02 5.28428443e-02 5.24969995e-01]]\n",
      "\n",
      " [[1.38042092e-01 3.72579996e-03 1.37152180e-01]\n",
      "  [5.64232282e-02 2.94442615e-03 8.00797541e-04]\n",
      "  [8.00874531e-02 4.81138751e-02 5.32710195e-01]]\n",
      "\n",
      " [[1.26911476e-01 2.61284062e-03 1.45028517e-01]\n",
      "  [5.18725142e-02 2.06482853e-03 8.46766052e-04]\n",
      "  [7.36286566e-02 3.37409079e-02 5.63293517e-01]]\n",
      "\n",
      " [[8.77007172e-02 2.05399375e-03 1.62657931e-01]\n",
      "  [3.58456969e-02 1.62318384e-03 9.49691981e-04]\n",
      "  [5.08800820e-02 2.65241619e-02 6.31764531e-01]]\n",
      "\n",
      " [[2.74540316e-02 2.31025051e-02 1.23869956e-01]\n",
      "  [1.12212077e-02 1.82569101e-02 7.23224541e-04]\n",
      "  [1.59276091e-02 2.98333079e-01 4.81111556e-01]]\n",
      "\n",
      " [[2.31687557e-02 2.93648161e-04 3.11404448e-02]\n",
      "  [3.25467885e-01 7.97567517e-03 6.24890439e-03]\n",
      "  [5.89186773e-02 1.66217033e-02 5.30164301e-01]]\n",
      "\n",
      " [[8.16428810e-02 3.71695170e-03 3.22195441e-01]\n",
      "  [2.17503216e-02 1.91455975e-03 1.22614088e-03]\n",
      "  [1.99606754e-02 2.02274770e-02 5.27365506e-01]]\n",
      "\n",
      " [[1.89822949e-02 2.10521696e-03 1.02266394e-01]\n",
      "  [2.00241972e-02 4.29376168e-03 1.54103665e-03]\n",
      "  [2.15191022e-02 5.31214811e-02 7.76146531e-01]]\n",
      "\n",
      " [[9.72350687e-03 9.82246734e-03 4.09796126e-02]\n",
      "  [1.97523292e-02 3.85789759e-02 1.18915050e-03]\n",
      "  [1.70203373e-02 3.82704586e-01 4.80228961e-01]]\n",
      "\n",
      " [[2.31510028e-02 6.43144886e-04 2.27020402e-02]\n",
      "  [4.03763205e-01 2.16870513e-02 5.65581862e-03]\n",
      "  [6.38371333e-02 3.94739248e-02 4.19086725e-01]]\n",
      "\n",
      " [[2.32970759e-01 5.18046739e-03 2.52600044e-01]\n",
      "  [5.83894067e-02 2.51036207e-03 9.04356770e-04]\n",
      "  [5.11143319e-02 2.52992772e-02 3.71030897e-01]]\n",
      "\n",
      " [[1.31245330e-01 1.81518705e-03 2.09414035e-01]\n",
      "  [3.14331129e-02 8.40542489e-04 7.16445094e-04]\n",
      "  [5.20881750e-02 1.60352085e-02 5.56411922e-01]]\n",
      "\n",
      " [[2.89602056e-02 1.15216756e-02 1.74284726e-01]\n",
      "  [1.00749778e-02 7.74984062e-03 8.66114686e-04]\n",
      "  [1.52864913e-02 1.35369152e-01 6.15886748e-01]]\n",
      "\n",
      " [[9.75679141e-03 5.10766171e-04 4.40541282e-02]\n",
      "  [1.32657319e-01 1.34270657e-02 8.55626911e-03]\n",
      "  [2.44195536e-02 2.84544881e-02 7.38163650e-01]]\n",
      "\n",
      " [[1.79287530e-02 9.41383652e-03 1.39491081e-01]\n",
      "  [1.99367646e-02 2.02397909e-02 2.21576984e-03]\n",
      "  [1.22080892e-02 1.42679721e-01 6.35886192e-01]]\n",
      "\n",
      " [[4.74776234e-03 4.39857785e-03 4.09272648e-02]\n",
      "  [5.91317303e-02 1.05920166e-01 7.28145102e-03]\n",
      "  [9.80168208e-03 2.02125862e-01 5.65665543e-01]]\n",
      "\n",
      " [[1.18355509e-02 1.20914653e-02 4.97541465e-02]\n",
      "  [1.02936499e-01 2.03326762e-01 6.18135650e-03]\n",
      "  [1.18318377e-02 2.69054651e-01 3.32987815e-01]]\n",
      "\n",
      " [[6.35850206e-02 1.86737638e-03 6.11514859e-02]\n",
      "  [4.52558249e-01 2.56972238e-02 6.21727761e-03]\n",
      "  [4.80612852e-02 3.14174071e-02 3.09444606e-01]]\n",
      "\n",
      " [[2.80737817e-01 7.77452067e-03 2.75692254e-01]\n",
      "  [5.52487709e-02 2.95821694e-03 7.75032444e-04]\n",
      "  [4.60041612e-02 2.83574834e-02 3.02451730e-01]]\n",
      "\n",
      " [[1.80814534e-01 3.98793584e-03 1.97188348e-01]\n",
      "  [3.69395465e-02 1.57521968e-03 5.75457292e-04]\n",
      "  [6.58465698e-02 3.23255509e-02 4.80746835e-01]]\n",
      "\n",
      " [[1.07579648e-01 1.58576935e-03 1.74435228e-01]\n",
      "  [3.60274576e-02 1.02678186e-03 8.34471022e-04]\n",
      "  [5.56916818e-02 1.82725042e-02 6.04546487e-01]]\n",
      "\n",
      " [[2.72222031e-02 1.22224148e-02 1.59854144e-01]\n",
      "  [1.06994174e-02 9.28813778e-03 8.97499849e-04]\n",
      "  [1.55012077e-02 1.54916331e-01 6.09398663e-01]]\n",
      "\n",
      " [[1.09976167e-02 5.31294325e-04 4.18939106e-02]\n",
      "  [1.53705850e-01 1.43569335e-02 8.36404506e-03]\n",
      "  [2.79261507e-02 3.00293285e-02 7.12194800e-01]]\n",
      "\n",
      " [[3.40020880e-02 2.26779305e-03 1.56359762e-01]\n",
      "  [3.75991613e-02 4.84853704e-03 2.46985373e-03]\n",
      "  [2.29166728e-02 3.40210162e-02 7.05515146e-01]]\n",
      "\n",
      " [[1.27770072e-02 7.07179820e-03 7.46691227e-02]\n",
      "  [1.91015955e-02 2.04411373e-02 1.59461261e-03]\n",
      "  [1.64812822e-02 2.03043744e-01 6.44819736e-01]]\n",
      "\n",
      " [[1.16271097e-02 1.00799429e-03 3.57247926e-02]\n",
      "  [1.90305412e-01 3.18986438e-02 8.35261960e-03]\n",
      "  [3.06848902e-02 5.92118651e-02 6.31186724e-01]]\n",
      "\n",
      " [[8.34535807e-02 1.27237441e-03 1.47891447e-01]\n",
      "  [8.73332247e-02 2.57444847e-03 2.21080915e-03]\n",
      "  [5.11430912e-02 1.73562076e-02 6.06764913e-01]]\n",
      "\n",
      " [[2.11635977e-02 1.93682946e-02 1.81397945e-01]\n",
      "  [7.33191380e-03 1.29734026e-02 8.97705322e-04]\n",
      "  [9.61067528e-03 1.95773378e-01 5.51482975e-01]]\n",
      "\n",
      " [[6.11917861e-03 6.13649888e-03 2.58505139e-02]\n",
      "  [7.60567188e-02 1.47468686e-01 4.58973134e-03]\n",
      "  [1.42195020e-02 3.17402095e-01 4.02157128e-01]]\n",
      "\n",
      " [[4.77073975e-02 1.28760131e-03 4.74004112e-02]\n",
      "  [4.41689610e-01 2.30487641e-02 6.26884028e-03]\n",
      "  [5.24205603e-02 3.14916447e-02 3.48685145e-01]]\n",
      "\n",
      " [[2.50447631e-01 5.15572773e-03 2.86214292e-01]\n",
      "  [5.28610684e-02 2.10399018e-03 8.62946617e-04]\n",
      "  [4.41707522e-02 2.02397797e-02 3.37943882e-01]]\n",
      "\n",
      " [[1.20718591e-01 2.82826601e-03 2.23932594e-01]\n",
      "  [2.56573856e-02 1.16223295e-03 6.79875084e-04]\n",
      "  [4.48357016e-02 2.33812630e-02 5.56804121e-01]]\n",
      "\n",
      " [[3.00946068e-02 2.53409520e-02 1.35776132e-01]\n",
      "  [1.01659177e-02 1.65506713e-02 6.55171461e-04]\n",
      "  [1.56448837e-02 2.93227375e-01 4.72544253e-01]]\n",
      "\n",
      " [[2.37319861e-02 3.03603942e-04 3.18698213e-02]\n",
      "  [3.21020484e-01 7.94037059e-03 6.15817355e-03]\n",
      "  [5.92665747e-02 1.68764479e-02 5.32832503e-01]]\n",
      "\n",
      " [[8.15941170e-02 3.79792624e-03 3.18627000e-01]\n",
      "  [2.19243299e-02 1.97309838e-03 1.22299220e-03]\n",
      "  [2.02581659e-02 2.09887102e-02 5.29613733e-01]]\n",
      "\n",
      " [[1.99504942e-02 1.93560054e-03 1.01890504e-01]\n",
      "  [2.12287977e-02 3.98219191e-03 1.54874206e-03]\n",
      "  [2.27428395e-02 4.91139330e-02 7.77606905e-01]]\n",
      "\n",
      " [[9.99199692e-03 8.49749986e-03 4.54326347e-02]\n",
      "  [2.03127265e-02 3.33996415e-02 1.31934241e-03]\n",
      "  [1.74915399e-02 3.31104308e-01 5.32450259e-01]]\n",
      "\n",
      " [[2.02956013e-02 3.66433640e-04 2.71342341e-02]\n",
      "  [3.53889257e-01 1.23536568e-02 6.75859861e-03]\n",
      "  [5.59483133e-02 2.24842429e-02 5.00769734e-01]]\n",
      "\n",
      " [[1.11913942e-01 1.25102755e-02 3.05708915e-01]\n",
      "  [2.80478615e-02 6.06201729e-03 1.09445350e-03]\n",
      "  [2.45529674e-02 6.10920377e-02 4.49017525e-01]]\n",
      "\n",
      " [[7.60122165e-02 1.56155438e-03 8.69410038e-02]\n",
      "  [7.54355267e-02 2.99629360e-03 1.23251125e-03]\n",
      "  [8.29243287e-02 3.79187129e-02 6.34977937e-01]]\n",
      "\n",
      " [[8.12466741e-02 1.90450693e-03 1.51220873e-01]\n",
      "  [3.96269858e-02 1.79598515e-03 1.05358800e-03]\n",
      "  [5.17185442e-02 2.69849207e-02 6.44447923e-01]]\n",
      "\n",
      " [[2.68526804e-02 2.30535697e-02 1.22685947e-01]\n",
      "  [1.12599684e-02 1.86905656e-02 7.34882720e-04]\n",
      "  [1.57154184e-02 3.00313175e-01 4.80693758e-01]]\n",
      "\n",
      " [[2.29091793e-02 5.05216361e-04 3.04136705e-02]\n",
      "  [3.22208375e-01 1.37385018e-02 6.11040089e-03]\n",
      "  [5.82072921e-02 2.85721645e-02 5.17335176e-01]]]\n"
     ]
    }
   ],
   "source": [
    "# Print the results\n",
    "print(\"Log Likelihood:\", log_likelihood)\n",
    "print(\"Forward Probabilities:\\n\", forward)\n",
    "print(\"Backward Probabilities:\\n\", backward)\n",
    "print(\"Conditional Probabilities:\\n\", cond_prob)\n",
    "print(\"Joint Conditional Probabilities:\\n\", joint_cond_probs)"
   ]
  },
  {
   "attachments": {},
   "cell_type": "markdown",
   "id": "710969c9",
   "metadata": {},
   "source": [
    "## Checks for binned MCMC implementation"
   ]
  },
  {
   "attachments": {},
   "cell_type": "markdown",
   "id": "bd350dbd",
   "metadata": {},
   "source": [
    "### Improvement of for loops"
   ]
  },
  {
   "cell_type": "code",
   "execution_count": 42,
   "id": "42b81a12",
   "metadata": {},
   "outputs": [
    {
     "name": "stdout",
     "output_type": "stream",
     "text": [
      "Transition matrix update\n",
      "Explicit loop: [[0. 2. 1.]\n",
      " [2. 0. 1.]\n",
      " [0. 2. 1.]]\n",
      "Vectorized: [[0 2 1]\n",
      " [2 0 1]\n",
      " [0 2 1]]\n",
      "state_idx: [[[0]]\n",
      "\n",
      " [[1]]\n",
      "\n",
      " [[2]]]\n",
      "obs_idx: [[1 3 0 2 3 1 3 2 2 1]]\n",
      "Emission matrix update\n",
      "Explicit loop: [[1. 2. 0. 0.]\n",
      " [0. 1. 0. 3.]\n",
      " [0. 0. 3. 0.]]\n",
      "Vectorized: [[1. 2. 0. 0.]\n",
      " [0. 1. 0. 3.]\n",
      " [0. 0. 3. 0.]]\n",
      "Vectorized without bin loop: [[1 2 0 0]\n",
      " [0 1 0 3]\n",
      " [0 0 3 0]]\n"
     ]
    }
   ],
   "source": [
    "import jax.numpy as jnp\n",
    "\n",
    "# Example hidden states and observations\n",
    "hidden_states = jnp.array([0, 1, 0, 2, 1, 0, 1, 2, 2, 1])\n",
    "observations = jnp.array([1, 3, 0, 2, 3, 1, 3, 2, 2, 1])\n",
    "\n",
    "n_states = 3\n",
    "n_bins = 4\n",
    "\n",
    "# Transition matrix update\n",
    "# Explicit for loop\n",
    "trans_mat_loop = jnp.zeros((n_states, n_states))\n",
    "for i in range(len(hidden_states) - 1):\n",
    "    trans_mat_loop = trans_mat_loop.at[hidden_states[i], hidden_states[i + 1]].add(1)\n",
    "\n",
    "# Vectorized update\n",
    "aux_trans_mat = jnp.array([\n",
    "    jnp.bincount(hidden_states[:-1] * n_states + hidden_states[1:], minlength=n_states * n_states)\n",
    "]).reshape(n_states, n_states)\n",
    "\n",
    "print(\"Transition matrix update\")\n",
    "print(\"Explicit loop:\", trans_mat_loop)\n",
    "print(\"Vectorized:\", aux_trans_mat)\n",
    "\n",
    "# Emission matrix update\n",
    "# Explicit for loop\n",
    "emission_mat_loop = jnp.zeros((n_states, n_bins))\n",
    "for i in range(len(hidden_states)):\n",
    "    emission_mat_loop = emission_mat_loop.at[hidden_states[i], observations[i]].add(1)\n",
    "\n",
    "# Vectorized update\n",
    "aux_emission_mat = jnp.zeros((n_states, n_bins))\n",
    "for j in range(n_bins):\n",
    "    count = jnp.sum((observations[:, None] == j) & (hidden_states[:, None] == jnp.arange(n_states)[None, :]), axis=0)\n",
    "    aux_emission_mat = aux_emission_mat.at[:, j].set(count)\n",
    "\n",
    "def emission_auxiliary_matrix_vectorized_no_bin_loop(states, observations, num_states, num_bins):\n",
    "    state_idx = jnp.arange(num_states)[:, None, None]\n",
    "    print(f\"state_idx: {state_idx}\")\n",
    "    obs_idx = jnp.array(observations)[None, :]\n",
    "    print(f\"obs_idx: {obs_idx}\")\n",
    "\n",
    "    matches = (state_idx == jnp.array(states)[None, :])\n",
    "    bin_matches = (jnp.arange(num_bins)[:, None] == obs_idx)\n",
    "\n",
    "    return jnp.sum(matches & bin_matches[None, :, :], axis=-1)\n",
    "\n",
    "emission_mat_vectorized_no_bin_loop = emission_auxiliary_matrix_vectorized_no_bin_loop(hidden_states, observations, 3, 4)\n",
    "\n",
    "print(\"Emission matrix update\")\n",
    "print(\"Explicit loop:\", emission_mat_loop)\n",
    "print(\"Vectorized:\", aux_emission_mat)\n",
    "print(\"Vectorized without bin loop:\", emission_mat_vectorized_no_bin_loop)"
   ]
  },
  {
   "attachments": {},
   "cell_type": "markdown",
   "id": "b4309e89",
   "metadata": {},
   "source": [
    "### Checks on the Gibbs sampler"
   ]
  },
  {
   "cell_type": "code",
   "execution_count": 1,
   "id": "0e4929a4",
   "metadata": {},
   "outputs": [],
   "source": [
    "import jax\n",
    "import jax.numpy as jnp\n",
    "from jax import lax\n",
    "import jax.random as random\n",
    "import numpy as np\n",
    "from jax import jit\n",
    "from jax import vmap\n",
    "from functools import partial\n",
    "import time"
   ]
  },
  {
   "cell_type": "code",
   "execution_count": 2,
   "id": "757d41d9",
   "metadata": {},
   "outputs": [],
   "source": [
    "%run hmm_helpers.py\n",
    "%run hmm_mcmc.py"
   ]
  },
  {
   "cell_type": "code",
   "execution_count": 20,
   "id": "432f57a6",
   "metadata": {},
   "outputs": [],
   "source": [
    "# Parameters for testing\n",
    "num_states = 20\n",
    "num_emissions = 4\n",
    "num_bins = 4\n",
    "seq_length = 2000\n",
    "seed = 0\n",
    "\n",
    "# Generate random HMM parameters\n",
    "key = random.PRNGKey(seed)\n",
    "trans_mat = random.dirichlet(key, jnp.ones(num_states), shape=(num_states,))\n",
    "emission_mat = random.dirichlet(key, jnp.ones(num_emissions), shape=(num_states,))\n",
    "\n",
    "# Generate synthetic observation data\n",
    "key, subkey = random.split(key)\n",
    "init_probs = jnp.array([1/num_states for _ in range(num_states)])\n",
    "\n",
    "# Initialize true_hidden_states with the first state using the init_probs\n",
    "key, subkey = random.split(key)\n",
    "first_state = random.choice(subkey, num_states, p=init_probs)\n",
    "true_hidden_states = [first_state]\n",
    "\n",
    "# Generate the rest of the true hidden states using the transition matrix\n",
    "for _ in range(seq_length - 1):\n",
    "    key, subkey = random.split(key)\n",
    "    current_state = random.choice(subkey, num_states, p=trans_mat[true_hidden_states[-1]])\n",
    "    true_hidden_states.append(current_state)\n",
    "\n",
    "true_hidden_states = jnp.array(true_hidden_states)\n",
    "\n",
    "key, *subkeys = random.split(key, 1+seq_length)\n",
    "obs_data = jnp.array([random.choice(k, num_emissions, p=emission_mat[state]) for k, state in zip(subkeys, true_hidden_states)])"
   ]
  },
  {
   "cell_type": "code",
   "execution_count": 24,
   "id": "07e7509e",
   "metadata": {},
   "outputs": [],
   "source": [
    "num_its = 1000"
   ]
  },
  {
   "cell_type": "code",
   "execution_count": 25,
   "id": "3010f4c8",
   "metadata": {},
   "outputs": [],
   "source": [
    "# Run the Gibbs sampler\n",
    "gibbs_results = binned_prior_sampler(obs_data, num_states, num_bins, num_its, seed=seed) # 144s on 2k iters, 2k obs, 2 states, 4 bins"
   ]
  },
  {
   "attachments": {},
   "cell_type": "markdown",
   "id": "95f6a7ed",
   "metadata": {},
   "source": [
    "### Checking the other samplers"
   ]
  },
  {
   "attachments": {},
   "cell_type": "markdown",
   "id": "397c4aca",
   "metadata": {},
   "source": [
    "When num_states is large, we find a bottleneck in sample_trans_mat. We fix it by making sure the prior is of type float32 rather than int32, then jitting gives us performance comparable to forward backward."
   ]
  },
  {
   "cell_type": "code",
   "execution_count": 42,
   "id": "1f93eca9",
   "metadata": {},
   "outputs": [],
   "source": [
    "key = random.PRNGKey(0)\n",
    "prior_params = prior_set(num_states=num_states, single_trans_row_prior=jnp.full(num_states, 1.),\n",
    "                            single_emission_prior=jnp.full(num_bins, 1.))\n",
    "trans_mat_prior = prior_params['trans_mat_prior']"
   ]
  },
  {
   "cell_type": "code",
   "execution_count": 43,
   "id": "2024b975",
   "metadata": {},
   "outputs": [
    {
     "data": {
      "text/plain": [
       "Array([[1., 1., 1., ..., 1., 1., 1.],\n",
       "       [1., 1., 1., ..., 1., 1., 1.],\n",
       "       [1., 1., 1., ..., 1., 1., 1.],\n",
       "       ...,\n",
       "       [1., 1., 1., ..., 1., 1., 1.],\n",
       "       [1., 1., 1., ..., 1., 1., 1.],\n",
       "       [1., 1., 1., ..., 1., 1., 1.]], dtype=float32, weak_type=True)"
      ]
     },
     "execution_count": 43,
     "metadata": {},
     "output_type": "execute_result"
    }
   ],
   "source": [
    "trans_mat_prior"
   ]
  },
  {
   "cell_type": "code",
   "execution_count": 34,
   "id": "2ac3f1ff",
   "metadata": {},
   "outputs": [],
   "source": [
    "def sample_trans_mat(hidden_states, trans_mat_prior, key):\n",
    "    \"\"\"\n",
    "    Samples a transition matrix from the conditional distribution given\n",
    "    a sequence of hidden states and a prior over transition matrices.\n",
    "\n",
    "    Args:\n",
    "        hidden_states: An array of integers of shape `(n_samples,)` representing the\n",
    "        sequence of hidden states.\n",
    "        trans_mat_prior: A 2D array of shape `(n_states, n_states)` representing the\n",
    "        prior over transition matrices. Each row of the matrix is a Dirichlet prior\n",
    "        over the transitions from a given state.\n",
    "        key: Optional `jax.random.PRNGKey`. If provided, used for random number generation.\n",
    "\n",
    "    Returns:\n",
    "        A 2D array of shape `(n_states, n_states)` representing the sampled transition matrix.\n",
    "    \"\"\"\n",
    "    num_states = trans_mat_prior.shape[0] # recover the number of distinct states\n",
    "\n",
    "    transition_count = jnp.array([\n",
    "    jnp.bincount(hidden_states[:-1] * num_states + hidden_states[1:],\n",
    "                 length=num_states * num_states)]).reshape(num_states, num_states)\n",
    "    \n",
    "    trans_mat_posterior = trans_mat_prior + transition_count\n",
    "    \n",
    "    # transition_count = jnp.zeros((num_states, num_states), dtype=jnp.int32)\n",
    "    # sample_size = hidden_states.shape[0]\n",
    "\n",
    "    # for sample_idx in range(sample_size - 1):\n",
    "    #     trans_mat_idx = (hidden_states[sample_idx], hidden_states[1+sample_idx])\n",
    "    #     transition_count = transition_count.at[trans_mat_idx].add(1)\n",
    "    # # Counts according to transition\n",
    "    # trans_mat_post = trans_mat_prior + transition_count # New Dirichlet weights\n",
    "    trans_mat_draw = jnp.zeros_like(trans_mat_prior, dtype=jnp.float32)\n",
    "    for i in range(num_states):\n",
    "        key, subkey = random.split(key)\n",
    "        trans_mat_draw = trans_mat_draw.at[i, :].set(random.dirichlet(subkey, trans_mat_posterior[i, :]))\n",
    "    # draws Q from newly updated Dirichlet weights\n",
    "    return trans_mat_draw"
   ]
  },
  {
   "cell_type": "code",
   "execution_count": 35,
   "id": "1c87c4a8",
   "metadata": {},
   "outputs": [
    {
     "name": "stdout",
     "output_type": "stream",
     "text": [
      "108 ms ± 976 µs per loop (mean ± std. dev. of 7 runs, 10 loops each)\n"
     ]
    }
   ],
   "source": [
    "%%timeit\n",
    "mat = sample_trans_mat(true_hidden_states, trans_mat_prior= trans_mat_prior, key=key)"
   ]
  },
  {
   "cell_type": "code",
   "execution_count": 39,
   "id": "77d05b11",
   "metadata": {},
   "outputs": [
    {
     "data": {
      "text/plain": [
       "Array([1., 1., 1., 1., 1.], dtype=float32, weak_type=True)"
      ]
     },
     "execution_count": 39,
     "metadata": {},
     "output_type": "execute_result"
    }
   ],
   "source": [
    "jnp.full(5, 1.)"
   ]
  },
  {
   "cell_type": "code",
   "execution_count": 13,
   "id": "25f18e7a",
   "metadata": {},
   "outputs": [],
   "source": [
    "num_its = 50"
   ]
  },
  {
   "attachments": {},
   "cell_type": "markdown",
   "id": "7e94097e",
   "metadata": {},
   "source": [
    "#### Making things JIT"
   ]
  },
  {
   "cell_type": "code",
   "execution_count": 7,
   "id": "b5b9b8bd",
   "metadata": {},
   "outputs": [],
   "source": [
    "%run hmm_helpers.py"
   ]
  },
  {
   "cell_type": "code",
   "execution_count": 96,
   "id": "7f2ed079",
   "metadata": {},
   "outputs": [],
   "source": [
    "%run hmm_mcmc.py"
   ]
  },
  {
   "attachments": {},
   "cell_type": "markdown",
   "id": "5d7cda41",
   "metadata": {},
   "source": [
    "Investigation of scaling with num_states"
   ]
  },
  {
   "cell_type": "code",
   "execution_count": 86,
   "id": "ac2449d2",
   "metadata": {},
   "outputs": [],
   "source": [
    "num_states = 100\n",
    "seed = 0\n",
    "key = random.PRNGKey(seed)\n",
    "trans_mat = random.dirichlet(key, jnp.ones(num_states), shape=(num_states,))\n",
    "emission_mat = random.dirichlet(key, jnp.ones(num_emissions), shape=(num_states,))"
   ]
  },
  {
   "cell_type": "code",
   "execution_count": 87,
   "id": "fc9700bd",
   "metadata": {},
   "outputs": [],
   "source": [
    "emission_func = partial(compute_emission_probs_multinomial, emission_mat=emission_mat)"
   ]
  },
  {
   "attachments": {},
   "cell_type": "markdown",
   "id": "4cec8d10",
   "metadata": {},
   "source": [
    "We find (as expected) that forward/backward has no extra cost up to a point (approx. 500 states), then scales linearly"
   ]
  },
  {
   "cell_type": "code",
   "execution_count": 88,
   "id": "0e9351d0",
   "metadata": {},
   "outputs": [
    {
     "name": "stdout",
     "output_type": "stream",
     "text": [
      "47.8 ms ± 7.33 ms per loop (mean ± std. dev. of 7 runs, 1 loop each)\n"
     ]
    }
   ],
   "source": [
    "%%timeit\n",
    "forward, backward, log_like = forward_backward(obs_data, trans_mat, emission_func)"
   ]
  },
  {
   "cell_type": "code",
   "execution_count": 89,
   "id": "5a997c4e",
   "metadata": {},
   "outputs": [
    {
     "name": "stdout",
     "output_type": "stream",
     "text": [
      "81.6 ms ± 1.45 ms per loop (mean ± std. dev. of 7 runs, 1 loop each)\n"
     ]
    }
   ],
   "source": [
    "%%timeit\n",
    "hidden_states = jit(sample_hidden_states)(obs_data, trans_mat, emission_mat,key = random.PRNGKey(0))\n",
    "# 75ms per loop so bulk of time. 2k iters, 2k obs, 2 states, 4 bins. Approx. half time on FB/ half time spent samploing hidden states."
   ]
  },
  {
   "cell_type": "code",
   "execution_count": 90,
   "id": "c70168e9",
   "metadata": {},
   "outputs": [],
   "source": [
    "num_obs = seq_length"
   ]
  },
  {
   "cell_type": "code",
   "execution_count": 91,
   "id": "856cc4a2",
   "metadata": {},
   "outputs": [],
   "source": [
    "forward, backward, log_like = forward_backward(obs_data, trans_mat, emission_func)"
   ]
  },
  {
   "cell_type": "code",
   "execution_count": 92,
   "id": "3592b214",
   "metadata": {},
   "outputs": [],
   "source": [
    "cond_prob = conditional_probability(forward,backward)"
   ]
  },
  {
   "cell_type": "code",
   "execution_count": 93,
   "id": "e54ceed5",
   "metadata": {},
   "outputs": [],
   "source": [
    "transition_probs = joint_conditional_probabilities(obs_data, trans_mat, forward, backward, emission_func)"
   ]
  },
  {
   "cell_type": "code",
   "execution_count": 94,
   "id": "ad77e715",
   "metadata": {},
   "outputs": [],
   "source": [
    "@jit\n",
    "def get_hidden_states(key):\n",
    "    def scan_fun(carry, t):\n",
    "        key, prev_state = carry\n",
    "        key, subkey = random.split(key)\n",
    "        probs = jax.lax.dynamic_slice(transition_probs, (t - 1, prev_state[0], 0), (1, 1, transition_probs.shape[2]))\n",
    "        state = random.categorical(subkey, logits=jnp.log(probs)).reshape(1)\n",
    "        # state = random.categorical(subkey, logits=jnp.log(transition_probs[t-1,prev_state,:]))\n",
    "        return (key, state), state\n",
    "    \n",
    "    key, subkey = random.split(key)\n",
    "    init_state = random.categorical(subkey, logits=jnp.log(cond_prob[0,:])).reshape(1)\n",
    "    init_carry = (key, init_state)\n",
    "    _, hidden_states_draw_next = jax.lax.scan(scan_fun, init_carry, jnp.arange(1, num_obs))\n",
    "    hidden_states_draw = jnp.append(jnp.array([init_state]), hidden_states_draw_next, axis=0) . reshape(num_obs)\n",
    "    return hidden_states_draw"
   ]
  },
  {
   "cell_type": "code",
   "execution_count": 95,
   "id": "1d80b695",
   "metadata": {},
   "outputs": [
    {
     "name": "stdout",
     "output_type": "stream",
     "text": [
      "46 ms ± 6.16 ms per loop (mean ± std. dev. of 7 runs, 1 loop each)\n"
     ]
    }
   ],
   "source": [
    "%%timeit\n",
    "get_hidden_states(key=random.PRNGKey(0))"
   ]
  },
  {
   "attachments": {},
   "cell_type": "markdown",
   "id": "08ea622e",
   "metadata": {},
   "source": [
    "Visualisation:"
   ]
  },
  {
   "cell_type": "code",
   "execution_count": 25,
   "id": "c2fe7ffa",
   "metadata": {},
   "outputs": [],
   "source": [
    "import matplotlib.pyplot as plt\n",
    "import seaborn as sns"
   ]
  },
  {
   "cell_type": "code",
   "execution_count": 43,
   "id": "0458ee01",
   "metadata": {},
   "outputs": [
    {
     "data": {
      "text/plain": [
       "Array([[0.9029102 , 0.09708978],\n",
       "       [0.32555982, 0.67444015]], dtype=float32)"
      ]
     },
     "execution_count": 43,
     "metadata": {},
     "output_type": "execute_result"
    }
   ],
   "source": [
    "trans_mat"
   ]
  },
  {
   "cell_type": "code",
   "execution_count": 55,
   "id": "1fbcf553",
   "metadata": {},
   "outputs": [
    {
     "data": {
      "text/plain": [
       "Array(265, dtype=int32)"
      ]
     },
     "execution_count": 55,
     "metadata": {},
     "output_type": "execute_result"
    }
   ],
   "source": [
    "gibbs_results['log_like_draws'].argmax()"
   ]
  },
  {
   "cell_type": "code",
   "execution_count": 56,
   "id": "a0ceb480",
   "metadata": {},
   "outputs": [
    {
     "data": {
      "text/plain": [
       "Array([[0.75460696, 0.24539305],\n",
       "       [0.05109244, 0.9489076 ]], dtype=float32)"
      ]
     },
     "execution_count": 56,
     "metadata": {},
     "output_type": "execute_result"
    }
   ],
   "source": [
    "gibbs_results['trans_mat_draws'][265]"
   ]
  },
  {
   "cell_type": "code",
   "execution_count": 51,
   "id": "bab44e68",
   "metadata": {},
   "outputs": [
    {
     "data": {
      "text/plain": [
       "<AxesSubplot: ylabel='Count'>"
      ]
     },
     "execution_count": 51,
     "metadata": {},
     "output_type": "execute_result"
    },
    {
     "data": {
      "image/png": "[encoded data removed]",
      "text/plain": [
       "<Figure size 640x480 with 1 Axes>"
      ]
     },
     "metadata": {},
     "output_type": "display_data"
    }
   ],
   "source": [
    "sns.histplot( gibbs_results['trans_mat_draws'][1000:,0,0], bins = 50)"
   ]
  },
  {
   "cell_type": "code",
   "execution_count": 6,
   "id": "edb4b5ea",
   "metadata": {},
   "outputs": [
    {
     "data": {
      "text/plain": [
       "dict_keys(['emission_prior', 'emission_weight_draws', 'hidden_states_MLE', 'log_like_draws', 'trans_mat_draws', 'trans_mat_prior'])"
      ]
     },
     "execution_count": 6,
     "metadata": {},
     "output_type": "execute_result"
    }
   ],
   "source": [
    "gibbs_results.keys()"
   ]
  },
  {
   "cell_type": "code",
   "execution_count": 11,
   "id": "28c1b09c",
   "metadata": {},
   "outputs": [
    {
     "data": {
      "text/plain": [
       "Array([[0, 0, 0],\n",
       "       [0, 0, 0],\n",
       "       [0, 0, 0]], dtype=int32, weak_type=True)"
      ]
     },
     "execution_count": 11,
     "metadata": {},
     "output_type": "execute_result"
    }
   ],
   "source": [
    "gibbs_results['trans_mat_draws'] [50]"
   ]
  },
  {
   "cell_type": "code",
   "execution_count": null,
   "id": "fe19aa1a",
   "metadata": {},
   "outputs": [],
   "source": []
  },
  {
   "cell_type": "code",
   "execution_count": 26,
   "id": "5b744162",
   "metadata": {},
   "outputs": [
    {
     "data": {
      "text/plain": [
       "Array([1.0000001, 1.       , 1.       ], dtype=float32)"
      ]
     },
     "execution_count": 26,
     "metadata": {},
     "output_type": "execute_result"
    }
   ],
   "source": [
    "sample_emission_weights(true_hidden_states, obs_data, emission_prior, random.PRNGKey(0) ) . sum (axis=1)"
   ]
  },
  {
   "cell_type": "code",
   "execution_count": 22,
   "id": "5225abe3",
   "metadata": {},
   "outputs": [
    {
     "name": "stdout",
     "output_type": "stream",
     "text": [
      "\u001b[0;31mSignature:\u001b[0m \u001b[0msample_trans_mat\u001b[0m\u001b[0;34m(\u001b[0m\u001b[0mhidden_states\u001b[0m\u001b[0;34m,\u001b[0m \u001b[0mtrans_mat_prior\u001b[0m\u001b[0;34m,\u001b[0m \u001b[0mkey\u001b[0m\u001b[0;34m)\u001b[0m\u001b[0;34m\u001b[0m\u001b[0;34m\u001b[0m\u001b[0m\n",
      "\u001b[0;31mDocstring:\u001b[0m\n",
      "Samples a transition matrix from the conditional distribution given\n",
      "a sequence of hidden states and a prior over transition matrices.\n",
      "\n",
      "Args:\n",
      "    hidden_states: An array of integers of shape `(n_samples,)` representing the\n",
      "    sequence of hidden states.\n",
      "    trans_mat_prior: A 2D array of shape `(n_states, n_states)` representing the\n",
      "    prior over transition matrices. Each row of the matrix is a Dirichlet prior\n",
      "    over the transitions from a given state.\n",
      "    key: Optional `jax.random.PRNGKey`. If provided, used for random number generation.\n",
      "\n",
      "Returns:\n",
      "    A 2D array of shape `(n_states, n_states)` representing the sampled transition matrix.\n",
      "\u001b[0;31mFile:\u001b[0m      ~/Documents/HMMs/src_python/hmm_mcmc.py\n",
      "\u001b[0;31mType:\u001b[0m      function"
     ]
    }
   ],
   "source": [
    "sample_trans_mat?"
   ]
  },
  {
   "cell_type": "code",
   "execution_count": 27,
   "id": "b42a93f8",
   "metadata": {},
   "outputs": [
    {
     "data": {
      "text/plain": [
       "Array([[0.3893561 , 0.44527414, 0.16536972],\n",
       "       [0.46679705, 0.29935053, 0.23385243],\n",
       "       [0.38239956, 0.5524928 , 0.06510768]], dtype=float32)"
      ]
     },
     "execution_count": 27,
     "metadata": {},
     "output_type": "execute_result"
    }
   ],
   "source": [
    "sample_trans_mat(true_hidden_states, trans_mat_prior, random.PRNGKey(0))"
   ]
  },
  {
   "cell_type": "code",
   "execution_count": 15,
   "id": "29e6441d",
   "metadata": {},
   "outputs": [
    {
     "name": "stdout",
     "output_type": "stream",
     "text": [
      "\u001b[0;31mSignature:\u001b[0m \u001b[0msample_trans_mat\u001b[0m\u001b[0;34m(\u001b[0m\u001b[0mhidden_states\u001b[0m\u001b[0;34m,\u001b[0m \u001b[0mtrans_mat_prior\u001b[0m\u001b[0;34m,\u001b[0m \u001b[0mkey\u001b[0m\u001b[0;34m)\u001b[0m\u001b[0;34m\u001b[0m\u001b[0;34m\u001b[0m\u001b[0m\n",
      "\u001b[0;31mDocstring:\u001b[0m\n",
      "Samples a transition matrix from the conditional distribution given\n",
      "a sequence of hidden states and a prior over transition matrices.\n",
      "\n",
      "Args:\n",
      "    hidden_states: An array of integers of shape `(n_samples,)` representing the\n",
      "    sequence of hidden states.\n",
      "    trans_mat_prior: A 2D array of shape `(n_states, n_states)` representing the\n",
      "    prior over transition matrices. Each row of the matrix is a Dirichlet prior\n",
      "    over the transitions from a given state.\n",
      "    key: Optional `jax.random.PRNGKey`. If provided, used for random number generation.\n",
      "\n",
      "Returns:\n",
      "    A 2D array of shape `(n_states, n_states)` representing the sampled transition matrix.\n",
      "\u001b[0;31mFile:\u001b[0m      ~/Documents/HMMs/src_python/hmm_mcmc.py\n",
      "\u001b[0;31mType:\u001b[0m      function"
     ]
    }
   ],
   "source": [
    "sample_trans_mat?"
   ]
  },
  {
   "cell_type": "code",
   "execution_count": 14,
   "id": "b325b8bc",
   "metadata": {},
   "outputs": [],
   "source": [
    "key = random.PRNGKey(seed)\n",
    "prior_params = prior_set(num_states=num_states, single_trans_row_prior=jnp.full(num_states, 1),\n",
    "                            single_emission_prior=jnp.full(num_bins, 1))\n",
    "trans_mat_prior = prior_params['trans_mat_prior']\n",
    "emission_prior = prior_params['emission_prior']\n",
    "num_obs = len(obs_data)\n",
    "\n",
    "key, subkey = random.split(key)\n",
    "hidden_states_init = random.randint(subkey, (num_obs,), 0, num_states)"
   ]
  },
  {
   "cell_type": "code",
   "execution_count": 10,
   "id": "6934543b",
   "metadata": {},
   "outputs": [
    {
     "data": {
      "text/plain": [
       "(4, 3)"
      ]
     },
     "execution_count": 10,
     "metadata": {},
     "output_type": "execute_result"
    }
   ],
   "source": [
    "emission_prior.shape"
   ]
  },
  {
   "cell_type": "code",
   "execution_count": 15,
   "id": "06e5e15e",
   "metadata": {},
   "outputs": [],
   "source": [
    "def prior_set(num_states, single_trans_row_prior, single_emission_prior):\n",
    "    \"\"\"\n",
    "    Sets prior parameters for binned HMM sampling.\n",
    "    \n",
    "    Args:\n",
    "    - num_states (int): number of hidden states in the HMM.\n",
    "    - single_trans_row_prior (array): a 1D array of size num_states specifying the prior for each row of the transition matrix.\n",
    "    - single_emission_prior (array): a 1D array of size num_bins specifying the prior for each emission probability vector. \n",
    "    \n",
    "    Returns:\n",
    "    - dict: a dictionary containing either trans_mat_prior and emission_prior or mix_weight_prior and emission_prior.\n",
    "    \"\"\"\n",
    "    trans_mat_prior = jnp.tile(single_trans_row_prior, (1,num_states))\n",
    "    \n",
    "    emission_prior = jnp.transpose(jnp.tile(single_emission_prior, (1,num_states))) # num_states x num_bins\n",
    "\n",
    "    return {\"trans_mat_prior\": trans_mat_prior, \"emission_prior\": emission_prior}"
   ]
  },
  {
   "cell_type": "code",
   "execution_count": 21,
   "id": "74537a0b",
   "metadata": {},
   "outputs": [],
   "source": [
    "single_emission_prior=jnp.full(num_bins,1)"
   ]
  },
  {
   "cell_type": "code",
   "execution_count": 26,
   "id": "e55b2e3a",
   "metadata": {},
   "outputs": [
    {
     "data": {
      "text/plain": [
       "(3, 4)"
      ]
     },
     "execution_count": 26,
     "metadata": {},
     "output_type": "execute_result"
    }
   ],
   "source": [
    "jnp.tile(single_emission_prior, (num_states,1) ) . shape"
   ]
  },
  {
   "cell_type": "code",
   "execution_count": 22,
   "id": "35ae7916",
   "metadata": {},
   "outputs": [
    {
     "data": {
      "text/plain": [
       "Array([1, 1, 1, 1], dtype=int32, weak_type=True)"
      ]
     },
     "execution_count": 22,
     "metadata": {},
     "output_type": "execute_result"
    }
   ],
   "source": [
    "single_emission_prior"
   ]
  },
  {
   "cell_type": "code",
   "execution_count": null,
   "id": "d7994c49",
   "metadata": {},
   "outputs": [],
   "source": [
    "def scan_fun(carry, _):\n",
    "    key, hidden_states_prev, max_log_like_prev, hidden_states_MLE_prev = carry # Unpack the carry tuple\n",
    "\n",
    "    key, subkey = random.split(key)\n",
    "    trans_mat_draw = sample_trans_mat(hidden_states_prev, trans_mat_prior, subkey)\n",
    "\n",
    "    key, subkey = random.split(key)\n",
    "    emission_draw = sample_emission_weights(hidden_states_prev, obs_data, emission_prior, subkey)\n",
    "\n",
    "    key, subkey = random.split(key)\n",
    "    hidden_states_draw, log_like_draw = sample_hidden_states(obs_data, trans_mat_draw, emission_draw, subkey)\n",
    "\n",
    "    hidden_states_MLE = jax.lax.cond(jax.lax.gt(log_like_draw,max_log_like_prev),\n",
    "                                    lambda _: hidden_states_draw,\n",
    "                                    lambda _: hidden_states_MLE_prev, operand=None)\n",
    "    max_log_like = jax.lax.cond(jax.lax.gt(log_like_draw, max_log_like_prev),\n",
    "                                lambda _: log_like_draw,\n",
    "                                lambda _: max_log_like_prev, operand=None)\n",
    "    \n",
    "    return ((key, hidden_states_draw, max_log_like, hidden_states_MLE), (trans_mat_draw, emission_draw, log_like_draw))\n",
    "\n",
    "key, subkey = random.split(key)\n",
    "init_carry = (key, hidden_states_init, float('-inf'), hidden_states_init)\n",
    "(final_carry, draws) = jax.lax.scan(scan_fun, init_carry, jnp.arange(num_its))\n",
    "_, _, _, hidden_states_MLE = final_carry\n",
    "trans_mat_draws, emission_draws, log_like_draws = zip(*draws)\n"
   ]
  }
 ],
 "metadata": {
  "kernelspec": {
   "display_name": "jax-env",
   "language": "python",
   "name": "python3"
  },
  "language_info": {
   "codemirror_mode": {
    "name": "ipython",
    "version": 3
   },
   "file_extension": ".py",
   "mimetype": "text/x-python",
   "name": "python",
   "nbconvert_exporter": "python",
   "pygments_lexer": "ipython3",
   "version": "3.11.0"
  }
 },
 "nbformat": 4,
 "nbformat_minor": 5
}
